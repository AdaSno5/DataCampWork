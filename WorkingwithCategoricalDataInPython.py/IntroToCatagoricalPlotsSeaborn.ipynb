{
 "cells": [
  {
   "attachments": {},
   "cell_type": "markdown",
   "metadata": {},
   "source": [
    "Set the font size of your graphic to be 1.25.\n",
    "\n",
    "Set the background of the graphic to be \"darkgrid\".\n",
    "\n",
    "Create a boxplot using catplot() with \"Helpful votes\" as the continuous variable split across each \"Traveler type\". Make sure that you are using the reviews dataset."
   ]
  },
  {
   "cell_type": "code",
   "execution_count": null,
   "metadata": {},
   "outputs": [],
   "source": [
    "# Set the font size to 1.25\n",
    "sns.set(font_scale=1.25)\n",
    "\n",
    "# Set the background to \"darkgrid\"\n",
    "sns.set_style(\"darkgrid\")\n",
    "\n",
    "# Create a boxplot\n",
    "sns.catplot(x=\"Traveler type\", y=\"Helpful votes\", data=reviews, kind=\"box\")\n",
    "\n",
    "plt.show()"
   ]
  },
  {
   "attachments": {},
   "cell_type": "markdown",
   "metadata": {},
   "source": [
    "Print out the frequency counts of the variable \"Period of stay\" to make sure each category has data.\n",
    "\n",
    "Create a bar plot using catplot().\n",
    "\n",
    "Split the reviews dataset on \"Period of stay\" across the x-axis.\n",
    "\n",
    "Specify the numerical variable to aggregate on as \"Helpful votes\"."
   ]
  },
  {
   "cell_type": "code",
   "execution_count": null,
   "metadata": {},
   "outputs": [],
   "source": [
    "# Print the frequency counts of \"Period of stay\"\n",
    "print(reviews[\"Period of stay\"].value_counts())\n",
    "\n",
    "sns.set(font_scale=1.4)\n",
    "sns.set_style(\"whitegrid\")\n",
    "\n",
    "# Create a bar plot of \"Helpful votes\" by \"Period of stay\"\n",
    "sns.catplot(x=\"Period of stay\", y=\"Helpful votes\", data=reviews, kind=\"bar\")\n",
    "plt.show()"
   ]
  },
  {
   "attachments": {},
   "cell_type": "markdown",
   "metadata": {},
   "source": [
    "Create a bar chart with \"User continent\" along the x-axis and \"Score\" along the y-axis."
   ]
  },
  {
   "cell_type": "code",
   "execution_count": null,
   "metadata": {},
   "outputs": [],
   "source": [
    "# Create a bar chart\n",
    "sns.set(font_scale=.9)\n",
    "sns.set_style(\"whitegrid\")\n",
    "sns.catplot(x=\"User continent\", y=\"Score\", data=reviews, kind=\"bar\")\n",
    "plt.show()"
   ]
  },
  {
   "attachments": {},
   "cell_type": "markdown",
   "metadata": {},
   "source": [
    "Print out the frequency counts of \"User continent\"."
   ]
  },
  {
   "cell_type": "code",
   "execution_count": null,
   "metadata": {},
   "outputs": [],
   "source": [
    "# Print the frequency counts for \"User continent\"\n",
    "print(reviews[\"User continent\"].value_counts())"
   ]
  },
  {
   "attachments": {},
   "cell_type": "markdown",
   "metadata": {},
   "source": [
    "Convert the \"User continent\" Series to a categorical and create a bar plot with \"User continent\" along the x-axis."
   ]
  },
  {
   "cell_type": "code",
   "execution_count": null,
   "metadata": {},
   "outputs": [],
   "source": [
    "# Convert \"User continent\" to a categorical variable\n",
    "reviews[\"User continent\"] = reviews[\"User continent\"].astype(\"category\")\n",
    "sns.catplot(x=\"User continent\", y=\"Score\", data=reviews, kind=\"bar\")\n",
    "plt.show()"
   ]
  },
  {
   "attachments": {},
   "cell_type": "markdown",
   "metadata": {},
   "source": [
    "Reorder the \"User continent\" Series using the ordered list, continent_categories, and rerun the graphic."
   ]
  },
  {
   "cell_type": "code",
   "execution_count": null,
   "metadata": {},
   "outputs": [],
   "source": [
    "# Reorder \"User continent\" using continent_categories and rerun the graphic\n",
    "continent_categories = list(reviews[\"User continent\"].value_counts().index)\n",
    "reviews[\"User continent\"] = reviews[\"User continent\"].cat.reorder_categories(new_categories=continent_categories)\n",
    "sns.catplot(x=\"User continent\", y=\"Score\", data=reviews, kind=\"bar\")\n",
    "plt.show()"
   ]
  },
  {
   "attachments": {},
   "cell_type": "markdown",
   "metadata": {},
   "source": [
    "Update the plot so that \"Casino\" (along the x-axis) and \"Free internet\" (to color the bars) are used to split the data."
   ]
  },
  {
   "cell_type": "code",
   "execution_count": null,
   "metadata": {},
   "outputs": [],
   "source": [
    "# Add a second category to split the data on: \"Free internet\"\n",
    "sns.set(font_scale=2)\n",
    "sns.set_style(\"darkgrid\")\n",
    "sns.catplot(x=\"Casino\", y=\"Score\", data=reviews, kind=\"bar\", hue=\"Free internet\")\n",
    "plt.show()"
   ]
  },
  {
   "attachments": {},
   "cell_type": "markdown",
   "metadata": {},
   "source": [
    "Switch the categories so that \"Free internet\" is on the x-axis and \"Casino\" is in the legend."
   ]
  },
  {
   "cell_type": "code",
   "execution_count": null,
   "metadata": {},
   "outputs": [],
   "source": [
    "# Switch the x and hue categories\n",
    "sns.set(font_scale=2)\n",
    "sns.set_style(\"darkgrid\")\n",
    "sns.catplot(x=\"Free internet\", y=\"Score\", data=reviews, kind=\"bar\", hue=\"Casino\")\n",
    "plt.show()"
   ]
  },
  {
   "attachments": {},
   "cell_type": "markdown",
   "metadata": {},
   "source": [
    "Update the x parameter to be \"User continent\"."
   ]
  },
  {
   "cell_type": "code",
   "execution_count": null,
   "metadata": {},
   "outputs": [],
   "source": [
    "# Update x to be \"User continent\"\n",
    "sns.set(font_scale=2)\n",
    "sns.set_style(\"darkgrid\")\n",
    "sns.catplot(x=\"User continent\", y=\"Score\", data=reviews, kind=\"bar\", hue=\"Casino\")\n",
    "plt.show()"
   ]
  },
  {
   "attachments": {},
   "cell_type": "markdown",
   "metadata": {},
   "source": [
    "The font was too large for the last visualization - change the font size to 1.0."
   ]
  },
  {
   "cell_type": "code",
   "execution_count": null,
   "metadata": {},
   "outputs": [],
   "source": [
    "# Lower the font size so that all text fits on the screen.\n",
    "sns.set(font_scale=1)\n",
    "sns.set_style(\"darkgrid\")\n",
    "sns.catplot(x=\"User continent\", y=\"Score\", data=reviews, kind=\"bar\", hue=\"Casino\")\n",
    "plt.show()"
   ]
  },
  {
   "attachments": {},
   "cell_type": "markdown",
   "metadata": {},
   "source": [
    "Using the catplot() function, create a point plot.\n",
    "\n",
    "Split the data across the x-axis using \"Hotel stars\".\n",
    "\n",
    "Specify the numerical variable to visualize to \"Nr. reviews\".\n",
    "\n",
    "Update the arguments so that any lines that appear do not overlap."
   ]
  },
  {
   "cell_type": "code",
   "execution_count": null,
   "metadata": {},
   "outputs": [],
   "source": [
    "# Create a point plot with catplot using \"Hotel stars\" and \"Nr. reviews\"\n",
    "sns.catplot(\n",
    "  # Split the data across Hotel stars and summarize Nr. reviews\n",
    "  x=\"Hotel stars\",\n",
    "  y=\"Nr. reviews\",\n",
    "  data=reviews,\n",
    "  # Specify a point plot\n",
    "  kind=\"point\",\n",
    "  hue=\"Pool\",\n",
    "  # Make sure the lines and points don't overlap\n",
    "  dodge=True)\n",
    "\n",
    "plt.show()"
   ]
  },
  {
   "attachments": {},
   "cell_type": "markdown",
   "metadata": {},
   "source": [
    "Use the catplot() function to display count frequencies using the reviews dataset.\n",
    "\n",
    "Count the frequencies for the \"Score\" variable across the x-axis.\n",
    "\n",
    "When counting the frequencies, color the bars using the \"Traveler type\" column."
   ]
  },
  {
   "cell_type": "code",
   "execution_count": null,
   "metadata": {},
   "outputs": [],
   "source": [
    "sns.set(font_scale=1.4)\n",
    "sns.set_style(\"darkgrid\")\n",
    "\n",
    "# Create a catplot that will count the frequency of \"Score\" across \"Traveler type\"\n",
    "sns.catplot(\n",
    "  x=\"Score\",\n",
    "  data=reviews,\n",
    "  kind=\"count\",\n",
    "  hue=\"Traveler type\"\n",
    ")\n",
    "plt.show()"
   ]
  },
  {
   "attachments": {},
   "cell_type": "markdown",
   "metadata": {},
   "source": [
    "Create a catplot() using \"count\" as the type of graphic.\n",
    "\n",
    "Count the number of reviews by \"Review weekday\".\n",
    "\n",
    "Create individual plots for each \"Period of stay\".\n",
    "\n",
    "Wrap the plots after every 2nd graphic.\n"
   ]
  },
  {
   "cell_type": "code",
   "execution_count": null,
   "metadata": {},
   "outputs": [],
   "source": [
    "# Create a catplot for each \"Period of stay\" broken down by \"Review weekday\"\n",
    "ax = sns.catplot(\n",
    "  # Make sure Review weekday is along the x-axis\n",
    "  x=\"Review weekday\",\n",
    "  # Specify Period of stay as the column to create individual graphics for\n",
    "  col=\"Period of stay\",\n",
    "  # Specify that a count plot should be created\n",
    "  kind=\"count\",\n",
    "  # Wrap the plots after every 2nd graphic.\n",
    "  col_wrap=2,\n",
    "  data=reviews\n",
    ")\n",
    "plt.show()"
   ]
  },
  {
   "attachments": {},
   "cell_type": "markdown",
   "metadata": {},
   "source": [
    "Adjust the color of the plot to be seaborn's \"Set2\" palette."
   ]
  },
  {
   "cell_type": "code",
   "execution_count": null,
   "metadata": {},
   "outputs": [],
   "source": [
    "# Adjust the color\n",
    "ax = sns.catplot(\n",
    "  x=\"Free internet\", y=\"Score\",\n",
    "  hue=\"Traveler type\", kind=\"bar\",\n",
    "  data=reviews,\n",
    "  palette=sns.color_palette(\"Set2\")\n",
    ")"
   ]
  },
  {
   "attachments": {},
   "cell_type": "markdown",
   "metadata": {},
   "source": [
    "Add the title \"Hotel Score by Traveler Type and Free Internet Access\""
   ]
  },
  {
   "cell_type": "code",
   "execution_count": null,
   "metadata": {},
   "outputs": [],
   "source": [
    "# Add a title\n",
    "ax.fig.suptitle(\"Hotel Score by Traveler Type and Free Internet Access\")"
   ]
  },
  {
   "attachments": {},
   "cell_type": "markdown",
   "metadata": {},
   "source": [
    "Update the axis labels to be \"Free Internet\" for the x-axis and \"Average Review Rating\" for the y-axis."
   ]
  },
  {
   "cell_type": "code",
   "execution_count": null,
   "metadata": {},
   "outputs": [],
   "source": [
    "# Update the axis labels\n",
    "ax.set_axis_labels(\"Free Internet\", \"Average Review Rating\")"
   ]
  },
  {
   "attachments": {},
   "cell_type": "markdown",
   "metadata": {},
   "source": [
    "Adjust the starting height of the graphic to be 93% of the full visualization height."
   ]
  },
  {
   "cell_type": "code",
   "execution_count": null,
   "metadata": {},
   "outputs": [],
   "source": [
    "# Adjust the starting height of the graphic\n",
    "plt.subplots_adjust(top=.93)\n",
    "plt.show()"
   ]
  }
 ],
 "metadata": {
  "language_info": {
   "name": "python"
  },
  "orig_nbformat": 4
 },
 "nbformat": 4,
 "nbformat_minor": 2
}
