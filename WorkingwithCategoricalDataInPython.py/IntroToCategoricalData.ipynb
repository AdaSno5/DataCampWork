{
 "cells": [
  {
   "attachments": {},
   "cell_type": "markdown",
   "metadata": {},
   "source": [
    "Explore the Above/Below 50k variable by printing out a description of the variable's contents.\n",
    "\n",
    "Explore the Above/Below 50k variable by printing out a frequency table of the values found in this column.\n",
    "\n",
    "Rerun .value_counts(), but this time print out the relative frequency values instead of the counts."
   ]
  },
  {
   "cell_type": "code",
   "execution_count": null,
   "metadata": {},
   "outputs": [],
   "source": [
    "# Explore the Above/Below 50k variable\n",
    "print(adult[\"Above/Below 50k\"].describe())\n",
    "\n",
    "# Print a frequency table of \"Above/Below 50k\"\n",
    "print(adult[\"Above/Below 50k\"].value_counts())\n",
    "\n",
    "# Print relative frequency values\n",
    "print(adult[\"Above/Below 50k\"].value_counts(normalize=True))"
   ]
  },
  {
   "attachments": {},
   "cell_type": "markdown",
   "metadata": {},
   "source": [
    "Create a pandas Series, series1, using the list_of_occupations (do not set the dtype).\n",
    "\n",
    "Print both the data type and number of bytes used of this new Series.\n",
    "\n",
    "Create a second pandas Series, series2, using the list_of_occupations and set the dtype to \"category\".\n",
    "\n",
    "Print both the data type and number of bytes used of this new Series."
   ]
  },
  {
   "cell_type": "code",
   "execution_count": null,
   "metadata": {},
   "outputs": [],
   "source": [
    "# Create a Series, default dtype\n",
    "series1 = pd.Series(list_of_occupations)\n",
    "\n",
    "# Print out the data type and number of bytes for series1\n",
    "print(\"series1 data type:\", series1.dtype)\n",
    "print(\"series1 number of bytes:\", series1.nbytes)\n",
    "\n",
    "# Create a Series, \"category\" dtype\n",
    "series2 = pd.Series(list_of_occupations, dtype=\"category\")\n",
    "\n",
    "# Print out the data type and number of bytes for series2\n",
    "print(\"series2 data type:\", series2.dtype)\n",
    "print(\"series2 number of bytes:\", series2.nbytes)"
   ]
  },
  {
   "attachments": {},
   "cell_type": "markdown",
   "metadata": {},
   "source": [
    "Create a categorical pandas Series without using pd.Series().\n",
    "Specify the three known medal categories such that \"Bronze\" < \"Silver\" < \"Gold\".\n",
    "Specify that the order of the categories is important when creating this Series."
   ]
  },
  {
   "cell_type": "code",
   "execution_count": null,
   "metadata": {},
   "outputs": [],
   "source": [
    "# Create a categorical Series and specify the categories (let pandas know the order matters!)\n",
    "medals = pd.Categorical(medals_won, categories=[\"Bronze\", \"Silver\", \"Gold\"], ordered=True)\n",
    "print(medals)"
   ]
  },
  {
   "attachments": {},
   "cell_type": "markdown",
   "metadata": {},
   "source": [
    "Call the correct attribute on the adult DataFrame to review the data types.\n",
    "\n",
    "Create a dictionary with keys: \"Workclass\", \"Education\", \"Relationship\", and \"Above/Below 50k\".\n",
    "Set the value for each key to be \"category\".\n",
    "\n",
    "Use the newly created dictionary, adult_dtypes, when reading in adult.csv\n"
   ]
  },
  {
   "cell_type": "code",
   "execution_count": null,
   "metadata": {},
   "outputs": [],
   "source": [
    "# Check the dtypes\n",
    "print(adult.dtypes)\n",
    "\n",
    "# Create a dictionary with column names as keys and \"category\" as values\n",
    "adult_dtypes = {\n",
    "   \"Workclass\": \"category\",\n",
    "   \"Education\": \"category\",\n",
    "   \"Relationship\": \"category\",\n",
    "   \"Above/Below 50k\": \"category\" \n",
    "}\n",
    "\n",
    "# Read in the CSV using the dtypes parameter\n",
    "adult2 = pd.read_csv(\n",
    "  \"adult.csv\",\n",
    "  ____\n",
    ")\n",
    "print(adult2.dtypes)"
   ]
  },
  {
   "attachments": {},
   "cell_type": "markdown",
   "metadata": {},
   "source": [
    "Split the adult dataset across the \"Sex\" and \"Above/Below 50k\" columns, saving this object as gb.\n",
    "Print out the number of observations found in each group.\n",
    "Using gb, find the average of each numerical column."
   ]
  },
  {
   "cell_type": "code",
   "execution_count": null,
   "metadata": {},
   "outputs": [],
   "source": [
    "# Group the adult dataset by \"Sex\" and \"Above/Below 50k\"\n",
    "gb = adult.groupby(by=[\"Sex\", \"Above/Below 50k\"])\n",
    "\n",
    "# Print out how many rows are in each created group\n",
    "print(gb.size())\n",
    "\n",
    "# Print out the mean of each group for all columns\n",
    "print(gb.mean())"
   ]
  },
  {
   "attachments": {},
   "cell_type": "markdown",
   "metadata": {},
   "source": [
    "Create a list of the names for two user-selected variables: \"Education\" and \"Above/Below 50k\".\n",
    "Create a GroupBy object, gb, using the user_list as the grouping variables.\n",
    "Calculate the mean of \"Hours/Week\" across each group using the most efficient approach covered in the video."
   ]
  },
  {
   "cell_type": "code",
   "execution_count": null,
   "metadata": {},
   "outputs": [],
   "source": [
    "# Create a list of user-selected variables\n",
    "user_list = [\"Education\", \"Above/Below 50k\"]\n",
    "\n",
    "# Create a GroupBy object using this list\n",
    "gb = adult.groupby(by=user_list)\n",
    "\n",
    "# Find the mean for the variable \"Hours/Week\" for each group - Be efficient!\n",
    "print(gb[\"Hours/Week\"].mean())"
   ]
  }
 ],
 "metadata": {
  "language_info": {
   "name": "python"
  },
  "orig_nbformat": 4
 },
 "nbformat": 4,
 "nbformat_minor": 2
}
