{
 "cells": [
  {
   "attachments": {},
   "cell_type": "markdown",
   "metadata": {},
   "source": [
    "Import the numpy package using the alias np.\n",
    "\n",
    "Create a DataFrame of explanatory data, where the number of convenience stores, n_convenience, takes the integer values from zero to ten.\n",
    "\n",
    "Print explanatory_data."
   ]
  },
  {
   "cell_type": "code",
   "execution_count": null,
   "metadata": {},
   "outputs": [],
   "source": [
    "# Import numpy with alias np\n",
    "import numpy as np\n",
    "\n",
    "# Create the explanatory_data \n",
    "explanatory_data = pd.DataFrame({'n_convenience': np.arange(0, 11)})\n",
    "\n",
    "# Print it\n",
    "print(explanatory_data)"
   ]
  },
  {
   "attachments": {},
   "cell_type": "markdown",
   "metadata": {},
   "source": [
    "Use the model mdl_price_vs_conv to make predictions from explanatory_data and store it as price_twd_msq.\n",
    "\n",
    "Print the predictions."
   ]
  },
  {
   "cell_type": "code",
   "execution_count": null,
   "metadata": {},
   "outputs": [],
   "source": [
    "# Import numpy and alias it np\n",
    "import numpy as np\n",
    "\n",
    "# Create explanatory_data \n",
    "explanatory_data = pd.DataFrame({'n_convenience': np.arange(0, 11)})\n",
    "\n",
    "# Use mdl_price_vs_conv to predict with explanatory_data, call it price_twd_msq\n",
    "price_twd_msq = mdl_price_vs_conv.predict(explanatory_data)\n",
    "\n",
    "# Print it\n",
    "print(price_twd_msq)"
   ]
  },
  {
   "attachments": {},
   "cell_type": "markdown",
   "metadata": {},
   "source": [
    "Create a DataFrame of predictions named prediction_data. Start with explanatory_data, then add an extra column, price_twd_msq, containing the predictions you created in the previous step."
   ]
  },
  {
   "cell_type": "code",
   "execution_count": null,
   "metadata": {},
   "outputs": [],
   "source": [
    "# Import numpy and alias it np\n",
    "import numpy as np\n",
    "\n",
    "# Create explanatory_data \n",
    "explanatory_data = pd.DataFrame({'n_convenience': np.arange(0, 11)})\n",
    "\n",
    "# Use mdl_price_vs_conv to predict with explanatory_data, call it price_twd_msq\n",
    "price_twd_msq = mdl_price_vs_conv.predict(explanatory_data)\n",
    "\n",
    "# Create prediction_data\n",
    "prediction_data = explanatory_data.assign(\n",
    "    price_twd_msq = price_twd_msq)\n",
    "\n",
    "# Print the result\n",
    "print(prediction_data)"
   ]
  },
  {
   "attachments": {},
   "cell_type": "markdown",
   "metadata": {},
   "source": [
    "Create a new figure to plot multiple layers.\n",
    "\n",
    "Extend the plotting code to add points for the predictions in prediction_data. Color the points red.\n",
    "\n",
    "Display the layered plot."
   ]
  },
  {
   "cell_type": "code",
   "execution_count": null,
   "metadata": {},
   "outputs": [],
   "source": [
    "# Create a new figure, fig\n",
    "fig = plt.figure()\n",
    "\n",
    "sns.regplot(x=\"n_convenience\",\n",
    "            y=\"price_twd_msq\",\n",
    "            data=taiwan_real_estate,\n",
    "            ci=None)\n",
    "# Add a scatter plot layer to the regplot\n",
    "sns.scatterplot(x=\"n_convenience\",\n",
    "                y=\"price_twd_msq\",\n",
    "                data=prediction_data,\n",
    "                color=\"red\")\n",
    "\n",
    "# Show the layered plot\n",
    "plt.show()"
   ]
  },
  {
   "attachments": {},
   "cell_type": "markdown",
   "metadata": {},
   "source": [
    "Create some impossible explanatory data. Define a DataFrame impossible with one column, n_convenience, set to -1 in the first row, and 2.5 in the second row."
   ]
  },
  {
   "cell_type": "code",
   "execution_count": null,
   "metadata": {},
   "outputs": [],
   "source": [
    "# Define a DataFrame impossible\n",
    "impossible = pd.DataFrame({\"n_convenience\": [-1, 2.5]})"
   ]
  },
  {
   "attachments": {},
   "cell_type": "markdown",
   "metadata": {},
   "source": [
    "Note:\n",
    "Linear models don't know what is possible or not in real life. That means that they can give you predictions that don't make any sense when applied to your data. You need to understand what your data means in order to determine whether a prediction is nonsense or not."
   ]
  },
  {
   "attachments": {},
   "cell_type": "markdown",
   "metadata": {},
   "source": [
    "Print the parameters of mdl_price_vs_conv."
   ]
  },
  {
   "cell_type": "code",
   "execution_count": null,
   "metadata": {},
   "outputs": [],
   "source": [
    "print(mdl_price_vs_conv.params)\n"
   ]
  },
  {
   "attachments": {},
   "cell_type": "markdown",
   "metadata": {},
   "source": [
    "Print the fitted values of mdl_price_vs_conv"
   ]
  },
  {
   "cell_type": "code",
   "execution_count": null,
   "metadata": {},
   "outputs": [],
   "source": [
    "# Print the fitted values of mdl_price_vs_conv\n",
    "print(mdl_price_vs_conv.fittedvalues)"
   ]
  },
  {
   "attachments": {},
   "cell_type": "markdown",
   "metadata": {},
   "source": [
    "Print the residuals of mdl_price_vs_conv"
   ]
  },
  {
   "cell_type": "code",
   "execution_count": null,
   "metadata": {},
   "outputs": [],
   "source": [
    "# Print the residuals of mdl_price_vs_conv\n",
    "print(mdl_price_vs_conv.resid)"
   ]
  },
  {
   "attachments": {},
   "cell_type": "markdown",
   "metadata": {},
   "source": [
    "Print a summary of mdl_price_vs_conv"
   ]
  },
  {
   "cell_type": "code",
   "execution_count": null,
   "metadata": {},
   "outputs": [],
   "source": [
    "# Print a summary of mdl_price_vs_conv\n",
    "print(mdl_price_vs_conv.summary())"
   ]
  },
  {
   "attachments": {},
   "cell_type": "markdown",
   "metadata": {},
   "source": [
    "Get the coefficients/parameters of mdl_price_vs_conv, assigning to coeffs.\n",
    "\n",
    "Get the intercept, which is the first element of coeffs, assigning to intercept.\n",
    "\n",
    "Get the slope, which is the second element of coeffs, assigning to slope.\n",
    "\n",
    "Manually predict price_twd_msq using the formula, specifying the intercept, slope, and explanatory_data.\n",
    "\n",
    "Run the code to compare your manually calculated predictions to the results from .predict()."
   ]
  },
  {
   "cell_type": "code",
   "execution_count": null,
   "metadata": {},
   "outputs": [],
   "source": [
    "# Get the coefficients of mdl_price_vs_conv\n",
    "coeffs = mdl_price_vs_conv.params\n",
    "\n",
    "# Get the intercept\n",
    "intercept = coeffs[0]\n",
    "\n",
    "# Get the slope\n",
    "slope = coeffs[1]\n",
    "\n",
    "# Manually calculate the predictions\n",
    "price_twd_msq = intercept + slope * explanatory_data\n",
    "print(price_twd_msq)\n",
    "\n",
    "# Compare to the results from .predict()\n",
    "print(price_twd_msq.assign(predictions_auto=mdl_price_vs_conv.predict(explanatory_data)))"
   ]
  },
  {
   "attachments": {},
   "cell_type": "markdown",
   "metadata": {},
   "source": [
    "Create a new figure, fig, to enable plot layering.\n",
    "\n",
    "Generate a line at y equals x. This has been done for you.\n",
    "\n",
    "Using sp500_yearly_returns, draw a scatter plot of return_2019 vs. return_2018 with a linear regression trend line, without a standard error ribbon.\n",
    "\n",
    "Set the axes so that the distances along the x and y axes look the same."
   ]
  },
  {
   "cell_type": "code",
   "execution_count": null,
   "metadata": {},
   "outputs": [],
   "source": [
    "# Create a new figure, fig\n",
    "fig = plt.figure()\n",
    "\n",
    "# Plot the first layer: y = x\n",
    "plt.axline(xy1=(0,0), slope=1, linewidth=2, color=\"green\")\n",
    "\n",
    "# Add scatter plot with linear regression trend line\n",
    "sns.regplot(x=\"return_2018\", y=\"return_2019\", data=sp500_yearly_returns, ci=None)\n",
    "\n",
    "# Set the axes so that the distances along the x and y axes look the same\n",
    "plt.axis(\"equal\")\n",
    "\n",
    "# Show the plot\n",
    "plt.show()"
   ]
  },
  {
   "attachments": {},
   "cell_type": "markdown",
   "metadata": {},
   "source": [
    "Run a linear regression on return_2019 versus return_2018 using sp500_yearly_returns and fit the model. Assign to mdl_returns.\n",
    "\n",
    "Print the parameters of the model."
   ]
  },
  {
   "cell_type": "code",
   "execution_count": null,
   "metadata": {},
   "outputs": [],
   "source": [
    "# Run a linear regression on return_2019 vs. return_2018 using sp500_yearly_returns\n",
    "mdl_returns = ols(\"return_2019 ~ return_2018\", data=sp500_yearly_returns).fit()\n",
    "\n",
    "# Print the parameters\n",
    "print(mdl_returns.params)"
   ]
  },
  {
   "attachments": {},
   "cell_type": "markdown",
   "metadata": {},
   "source": [
    "Create a DataFrame named explanatory_data. Give it one column (return_2018) with 2018 returns set to a list containing -1, 0, and 1.\n",
    "\n",
    "Use mdl_returns to predict with explanatory_data in a print() call."
   ]
  },
  {
   "cell_type": "code",
   "execution_count": null,
   "metadata": {},
   "outputs": [],
   "source": [
    "# Run a linear regression on return_2019 vs. return_2018 using sp500_yearly_returns\n",
    "mdl_returns = ols(\"return_2019 ~ return_2018\", data=sp500_yearly_returns).fit()\n",
    "\n",
    "# Create a DataFrame with return_2018 at -1, 0, and 1 \n",
    "explanatory_data = pd.DataFrame({\"return_2018\": [-1, 0, 1]})\n",
    "\n",
    "# Use mdl_returns to predict with explanatory_data\n",
    "print(mdl_returns.predict(explanatory_data))"
   ]
  },
  {
   "attachments": {},
   "cell_type": "markdown",
   "metadata": {},
   "source": [
    "Look at the plot.\n",
    "\n",
    "Add a new column to taiwan_real_estate called sqrt_dist_to_mrt_m that contains the square root of dist_to_mrt_m.\n",
    "\n",
    "Create the same scatter plot as the first one, but use the new transformed variable on the x-axis instead.\n",
    "\n",
    "Look at the new plot. Notice how the numbers on the x-axis have changed. This is a different line to what was shown before. Do the points track the line more closely?"
   ]
  },
  {
   "cell_type": "code",
   "execution_count": null,
   "metadata": {},
   "outputs": [],
   "source": [
    "# Create sqrt_dist_to_mrt_m\n",
    "taiwan_real_estate[\"sqrt_dist_to_mrt_m\"] = np.sqrt(taiwan_real_estate[\"dist_to_mrt_m\"])\n",
    "\n",
    "plt.figure()\n",
    "\n",
    "# Plot using the transformed variable\n",
    "sns.regplot(x=\"sqrt_dist_to_mrt_m\", y=\"price_twd_msq\", data=taiwan_real_estate, ci=None)\n",
    "plt.show()"
   ]
  },
  {
   "attachments": {},
   "cell_type": "markdown",
   "metadata": {},
   "source": [
    "Run a linear regression of price_twd_msq versus the square root of dist_to_mrt_m using taiwan_real_estate.\n",
    "\n",
    "Print the parameters."
   ]
  },
  {
   "cell_type": "code",
   "execution_count": null,
   "metadata": {},
   "outputs": [],
   "source": [
    "# Create sqrt_dist_to_mrt_m\n",
    "taiwan_real_estate[\"sqrt_dist_to_mrt_m\"] = np.sqrt(taiwan_real_estate[\"dist_to_mrt_m\"])\n",
    "\n",
    "# Run a linear regression of price_twd_msq vs. square root of dist_to_mrt_m using taiwan_real_estate\n",
    "mdl_price_vs_dist = ols(\"price_twd_msq ~ sqrt_dist_to_mrt_m\", data=taiwan_real_estate).fit()\n",
    "\n",
    "# Print the parameters\n",
    "print(mdl_price_vs_dist.params)"
   ]
  },
  {
   "attachments": {},
   "cell_type": "markdown",
   "metadata": {},
   "source": [
    "Create a DataFrame of predictions named prediction_data by adding a column of predictions called price_twd_msq to explanatory_data. Predict using mdl_price_vs_dist and explanatory_data.\n",
    "\n",
    "Print the predictions."
   ]
  },
  {
   "cell_type": "code",
   "execution_count": null,
   "metadata": {},
   "outputs": [],
   "source": [
    "# Create sqrt_dist_to_mrt_m\n",
    "taiwan_real_estate[\"sqrt_dist_to_mrt_m\"] = np.sqrt(taiwan_real_estate[\"dist_to_mrt_m\"])\n",
    "\n",
    "# Run a linear regression of price_twd_msq vs. sqrt_dist_to_mrt_m\n",
    "mdl_price_vs_dist = ols(\"price_twd_msq ~ sqrt_dist_to_mrt_m\", data=taiwan_real_estate).fit()\n",
    "\n",
    "explanatory_data = pd.DataFrame({\"sqrt_dist_to_mrt_m\": np.sqrt(np.arange(0, 81, 10) ** 2),\n",
    "                                \"dist_to_mrt_m\": np.arange(0, 81, 10) ** 2})\n",
    "\n",
    "# Create prediction_data by adding a column of predictions to explantory_data\n",
    "prediction_data = explanatory_data.assign(\n",
    "    price_twd_msq = mdl_price_vs_dist.predict(explanatory_data)\n",
    ")\n",
    "\n",
    "# Print the result\n",
    "print(prediction_data)"
   ]
  },
  {
   "attachments": {},
   "cell_type": "markdown",
   "metadata": {},
   "source": [
    "Add a layer to your plot containing points from prediction_data, colored \"red\"."
   ]
  },
  {
   "cell_type": "code",
   "execution_count": null,
   "metadata": {},
   "outputs": [],
   "source": [
    "# Create sqrt_dist_to_mrt_m\n",
    "taiwan_real_estate[\"sqrt_dist_to_mrt_m\"] = np.sqrt(taiwan_real_estate[\"dist_to_mrt_m\"])\n",
    "\n",
    "# Run a linear regression of price_twd_msq vs. sqrt_dist_to_mrt_m\n",
    "mdl_price_vs_dist = ols(\"price_twd_msq ~ sqrt_dist_to_mrt_m\", data=taiwan_real_estate).fit()\n",
    "\n",
    "# Use this explanatory data\n",
    "explanatory_data = pd.DataFrame({\"sqrt_dist_to_mrt_m\": np.sqrt(np.arange(0, 81, 10) ** 2),\n",
    "                                \"dist_to_mrt_m\": np.arange(0, 81, 10) ** 2})\n",
    "\n",
    "# Use mdl_price_vs_dist to predict explanatory_data\n",
    "prediction_data = explanatory_data.assign(\n",
    "    price_twd_msq = mdl_price_vs_dist.predict(explanatory_data)\n",
    ")\n",
    "\n",
    "fig = plt.figure()\n",
    "sns.regplot(x=\"sqrt_dist_to_mrt_m\", y=\"price_twd_msq\", data=taiwan_real_estate, ci=None)\n",
    "\n",
    "# Add a layer of your prediction points\n",
    "sns.scatterplot(x=\"sqrt_dist_to_mrt_m\", y=\"price_twd_msq\", data=prediction_data, color=\"red\")\n",
    "plt.show()"
   ]
  },
  {
   "attachments": {},
   "cell_type": "markdown",
   "metadata": {},
   "source": [
    "Look at the plot.\n",
    "\n",
    "Create a qdrt_n_impressions column using n_impressions raised to the power of 0.25.\n",
    "\n",
    "Create a qdrt_n_clicks column using n_clicks raised to the power of 0.25.\n",
    "\n",
    "Create a regression plot using the transformed variables. Do the points track the line more closely?"
   ]
  },
  {
   "cell_type": "code",
   "execution_count": null,
   "metadata": {},
   "outputs": [],
   "source": [
    "# Create qdrt_n_impressions and qdrt_n_clicks\n",
    "ad_conversion[\"qdrt_n_impressions\"] = ad_conversion[\"n_impressions\"] ** 0.25\n",
    "ad_conversion[\"qdrt_n_clicks\"] = ad_conversion[\"n_clicks\"] ** 0.25\n",
    "\n",
    "plt.figure()\n",
    "\n",
    "# Plot using the transformed variables\n",
    "sns.regplot(x=\"qdrt_n_impressions\", y=\"qdrt_n_clicks\", data=ad_conversion, ci=None)\n",
    "plt.show()"
   ]
  },
  {
   "attachments": {},
   "cell_type": "markdown",
   "metadata": {},
   "source": [
    "Run a linear regression of qdrt_n_clicks versus qdrt_n_impressions using ad_conversion and assign it to mdl_click_vs_impression."
   ]
  },
  {
   "cell_type": "code",
   "execution_count": null,
   "metadata": {},
   "outputs": [],
   "source": [
    "ad_conversion[\"qdrt_n_impressions\"] = ad_conversion[\"n_impressions\"] ** 0.25\n",
    "ad_conversion[\"qdrt_n_clicks\"] = ad_conversion[\"n_clicks\"] ** 0.25\n",
    "\n",
    "# Run a linear regression of your transformed variables\n",
    "mdl_click_vs_impression = ols(\"qdrt_n_clicks ~ qdrt_n_impressions\", data=ad_conversion).fit()"
   ]
  },
  {
   "attachments": {},
   "cell_type": "markdown",
   "metadata": {},
   "source": [
    "Complete the code to create the prediction data."
   ]
  },
  {
   "cell_type": "code",
   "execution_count": null,
   "metadata": {},
   "outputs": [],
   "source": [
    "ad_conversion[\"qdrt_n_impressions\"] = ad_conversion[\"n_impressions\"] ** 0.25\n",
    "ad_conversion[\"qdrt_n_clicks\"] = ad_conversion[\"n_clicks\"] ** 0.25\n",
    "\n",
    "# Run a linear regression of your transformed variables\n",
    "mdl_click_vs_impression = ols(\"qdrt_n_clicks ~ qdrt_n_impressions\", data=ad_conversion, ci=None).fit()\n",
    "\n",
    "explanatory_data = pd.DataFrame({\"qdrt_n_impressions\": np.arange(0, 3e6+1, 5e5) ** .25,\n",
    "                                 \"n_impressions\": np.arange(0, 3e6+1, 5e5)})\n",
    "\n",
    "# Complete prediction_data\n",
    "prediction_data = explanatory_data.assign(\n",
    "    qdrt_n_clicks = mdl_click_vs_impression.predict(explanatory_data)\n",
    ")\n",
    "\n",
    "# Print the result\n",
    "print(prediction_data)"
   ]
  },
  {
   "attachments": {},
   "cell_type": "markdown",
   "metadata": {},
   "source": [
    "Back transform the response variable in prediction_data by raising qdrt_n_clicks to the power 4 to get n_clicks."
   ]
  },
  {
   "cell_type": "code",
   "execution_count": null,
   "metadata": {},
   "outputs": [],
   "source": [
    "# Back transform qdrt_n_clicks\n",
    "prediction_data[\"n_clicks\"] = prediction_data[\"qdrt_n_clicks\"] ** 4\n",
    "print(prediction_data)"
   ]
  },
  {
   "attachments": {},
   "cell_type": "markdown",
   "metadata": {},
   "source": [
    "Edit the plot to add a layer of points from prediction_data, colored \"red\"."
   ]
  },
  {
   "cell_type": "code",
   "execution_count": null,
   "metadata": {},
   "outputs": [],
   "source": [
    "# Back transform qdrt_n_clicks\n",
    "prediction_data[\"n_clicks\"] = prediction_data[\"qdrt_n_clicks\"] ** 4\n",
    "\n",
    "# Plot the transformed variables\n",
    "fig = plt.figure()\n",
    "sns.regplot(x=\"qdrt_n_impressions\", y=\"qdrt_n_clicks\", data=ad_conversion, ci=None)\n",
    "\n",
    "# Add a layer of your prediction points\n",
    "sns.scatterplot(x=\"qdrt_n_impressions\", y=\"qdrt_n_clicks\", data=prediction_data, color=\"red\")\n",
    "plt.show()"
   ]
  },
  {
   "cell_type": "markdown",
   "metadata": {},
   "source": []
  },
  {
   "cell_type": "code",
   "execution_count": null,
   "metadata": {},
   "outputs": [],
   "source": []
  },
  {
   "cell_type": "markdown",
   "metadata": {},
   "source": []
  },
  {
   "cell_type": "code",
   "execution_count": null,
   "metadata": {},
   "outputs": [],
   "source": []
  }
 ],
 "metadata": {
  "language_info": {
   "name": "python"
  },
  "orig_nbformat": 4
 },
 "nbformat": 4,
 "nbformat_minor": 2
}
