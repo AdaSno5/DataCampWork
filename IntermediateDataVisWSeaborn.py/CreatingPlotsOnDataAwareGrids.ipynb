{
 "cells": [
  {
   "attachments": {},
   "cell_type": "markdown",
   "metadata": {},
   "source": [
    "Create a FacetGrid that shows a point plot of the Average SAT scores SAT_AVG_ALL.\n",
    "\n",
    "Use row_order to control the display order of the degree types."
   ]
  },
  {
   "cell_type": "code",
   "execution_count": null,
   "metadata": {},
   "outputs": [],
   "source": [
    "# Create FacetGrid with Degree_Type and specify the order of the rows using row_order\n",
    "g2 = sns.FacetGrid(df,\n",
    "                   row=\"Degree_Type\",\n",
    "                   row_order=['Graduate', 'Bachelors', 'Associates', 'Certificate'])\n",
    "\n",
    "# Map a pointplot of SAT_AVG_ALL onto the grid\n",
    "g2.map(sns.pointplot, 'SAT_AVG_ALL')\n",
    "\n",
    "# Show the plot\n",
    "plt.show()\n",
    "plt.clf()"
   ]
  },
  {
   "attachments": {},
   "cell_type": "markdown",
   "metadata": {},
   "source": [
    "Create a catplot() that contains a boxplot (box) of Tuition values varying by Degree_Type across rows."
   ]
  },
  {
   "cell_type": "code",
   "execution_count": null,
   "metadata": {},
   "outputs": [],
   "source": [
    "# Create a factor plot that contains boxplots of Tuition values\n",
    "sns.catplot(data=df,\n",
    "               x='Tuition',\n",
    "               kind='box',\n",
    "               row='Degree_Type')\n",
    "\n",
    "plt.show()\n",
    "plt.clf()"
   ]
  },
  {
   "attachments": {},
   "cell_type": "markdown",
   "metadata": {},
   "source": [
    "Create a catplot() of SAT Averages (SAT_AVG_ALL) facetted across Degree_Type that shows a pointplot (point).\n",
    "\n",
    "Use row_order to order the degrees from highest to lowest level."
   ]
  },
  {
   "cell_type": "code",
   "execution_count": null,
   "metadata": {},
   "outputs": [],
   "source": [
    "# Create a facetted pointplot of Average SAT scores facetted by Degree Type \n",
    "sns.catplot(data=df,\n",
    "               x='SAT_AVG_ALL',\n",
    "               kind='point',\n",
    "               row='Degree_Type',\n",
    "               row_order=['Graduate', 'Bachelors', 'Associates', 'Certificate'])\n",
    "\n",
    "plt.show()\n",
    "plt.clf()"
   ]
  },
  {
   "attachments": {},
   "cell_type": "markdown",
   "metadata": {},
   "source": [
    "Create a FacetGrid() with Degree_Type columns and scatter plot of UG and PCTPELL."
   ]
  },
  {
   "cell_type": "code",
   "execution_count": null,
   "metadata": {},
   "outputs": [],
   "source": [
    "# Create a FacetGrid varying by column and columns ordered with the degree_order variable\n",
    "g = sns.FacetGrid(df, col=\"Degree_Type\", col_order=degree_ord)\n",
    "\n",
    "# Map a scatter plot of Undergrad Population compared to PCTPELL\n",
    "g.map(plt.scatter, 'UG', 'PCTPELL')\n",
    "\n",
    "plt.show()\n",
    "plt.clf()"
   ]
  },
  {
   "attachments": {},
   "cell_type": "markdown",
   "metadata": {},
   "source": [
    "Create a lmplot() using the same values from the FacetGrid()."
   ]
  },
  {
   "cell_type": "code",
   "execution_count": null,
   "metadata": {},
   "outputs": [],
   "source": [
    "# Re-create the previous plot as an lmplot\n",
    "sns.lmplot(data=df,\n",
    "           x='UG',\n",
    "           y='PCTPELL',\n",
    "           col=\"Degree_Type\",\n",
    "           col_order=degree_ord)\n",
    "\n",
    "plt.show()\n",
    "plt.clf()"
   ]
  },
  {
   "attachments": {},
   "cell_type": "markdown",
   "metadata": {},
   "source": [
    "Create a facetted lmplot() comparing SAT_AVG_ALL to Tuition with columns varying by Ownership and rows by Degree_Type.\n",
    "\n",
    "In the lmplot() add a hue for Women Only Universities."
   ]
  },
  {
   "cell_type": "code",
   "execution_count": null,
   "metadata": {},
   "outputs": [],
   "source": [
    "# Create an lmplot that has a column for Ownership, a row for Degree_Type\n",
    "# and hue based on the WOMENONLY column and columns defined by inst_order\n",
    "sns.lmplot(data=df,\n",
    "           x='SAT_AVG_ALL',\n",
    "           y='Tuition',\n",
    "           col=\"Ownership\",\n",
    "           row='Degree_Type', \n",
    "           row_order=['Graduate', 'Bachelors'],\n",
    "           hue='WOMENONLY',\n",
    "           col_order=inst_ord)\n",
    "\n",
    "plt.show()\n",
    "plt.clf()"
   ]
  },
  {
   "attachments": {},
   "cell_type": "markdown",
   "metadata": {},
   "source": [
    "Compare \"fatal_collisions\" to \"premiums\" by using a scatter plot mapped to a PairGrid()."
   ]
  },
  {
   "cell_type": "code",
   "execution_count": null,
   "metadata": {},
   "outputs": [],
   "source": [
    "# Create a PairGrid with a scatter plot for fatal_collisions and premiums\n",
    "g = sns.PairGrid(df, vars=[\"fatal_collisions\", \"premiums\"])\n",
    "g2 = g.map(sns.scatterplot)\n",
    "\n",
    "plt.show()\n",
    "plt.clf()"
   ]
  },
  {
   "attachments": {},
   "cell_type": "markdown",
   "metadata": {},
   "source": [
    "Create another PairGrid but plot a histogram on the diagonal and scatter plot on the off diagonal."
   ]
  },
  {
   "cell_type": "code",
   "execution_count": null,
   "metadata": {},
   "outputs": [],
   "source": [
    "# Create the same PairGrid but map a histogram on the diag\n",
    "g = sns.PairGrid(df, vars=[\"fatal_collisions\", \"premiums\"])\n",
    "g2 = g.map_diag(sns.histplot)\n",
    "g3 = g2.map_offdiag(sns.scatterplot)\n",
    "\n",
    "plt.show()\n",
    "plt.clf()"
   ]
  },
  {
   "attachments": {},
   "cell_type": "markdown",
   "metadata": {},
   "source": [
    "Recreate the pairwise plot from the previous exercise using pairplot()."
   ]
  },
  {
   "cell_type": "code",
   "execution_count": null,
   "metadata": {},
   "outputs": [],
   "source": [
    "# Create a pairwise plot of the variables using a scatter plot\n",
    "sns.pairplot(data=df,\n",
    "             vars=[\"fatal_collisions\", \"premiums\"],\n",
    "             kind='scatter')\n",
    "\n",
    "plt.show()\n",
    "plt.clf()"
   ]
  },
  {
   "attachments": {},
   "cell_type": "markdown",
   "metadata": {},
   "source": [
    "Create another pairplot using the \"Region\" to color code the results.\n",
    "\n",
    "Use the RdBu palette to change the colors of the plot."
   ]
  },
  {
   "cell_type": "code",
   "execution_count": null,
   "metadata": {},
   "outputs": [],
   "source": [
    "# Plot the same data but use a different color palette and color code by Region\n",
    "sns.pairplot(data=df,\n",
    "             vars=[\"fatal_collisions\", \"premiums\"],\n",
    "             kind='scatter',\n",
    "             hue='Region',\n",
    "             palette='RdBu',\n",
    "             diag_kws={'alpha':.5})\n",
    "\n",
    "plt.show()\n",
    "plt.clf()"
   ]
  },
  {
   "attachments": {},
   "cell_type": "markdown",
   "metadata": {},
   "source": [
    "Create a pair plot that examines fatal_collisions_speeding and fatal_collisions_alc on the x axis and premiums and insurance_losses on the y axis.\n",
    "\n",
    "Use the husl palette and color code the scatter plot by Region."
   ]
  },
  {
   "cell_type": "code",
   "execution_count": null,
   "metadata": {},
   "outputs": [],
   "source": [
    "# Build a pairplot with different x and y variables\n",
    "sns.pairplot(data=df,\n",
    "             x_vars=[\"fatal_collisions_speeding\", \"fatal_collisions_alc\"],\n",
    "             y_vars=['premiums', 'insurance_losses'],\n",
    "             kind='scatter',\n",
    "             hue='Region',\n",
    "             palette='husl')\n",
    "\n",
    "plt.show()\n",
    "plt.clf()"
   ]
  },
  {
   "attachments": {},
   "cell_type": "markdown",
   "metadata": {},
   "source": [
    "Build a pairplot() with kde plots along the diagonals. Include the insurance_losses and premiums as the variables.\n",
    "\n",
    "Use a reg plot for the the non-diagonal plots.\n",
    "\n",
    "Use the BrBG palette for the final plot."
   ]
  },
  {
   "cell_type": "code",
   "execution_count": null,
   "metadata": {},
   "outputs": [],
   "source": [
    "# plot relationships between insurance_losses and premiums\n",
    "sns.pairplot(data=df,\n",
    "             vars=[\"insurance_losses\", \"premiums\"],\n",
    "             kind='reg',\n",
    "             palette='BrBG',\n",
    "             diag_kind = 'kde',\n",
    "             hue='Region')\n",
    "\n",
    "plt.show()\n",
    "plt.clf()"
   ]
  },
  {
   "attachments": {},
   "cell_type": "markdown",
   "metadata": {},
   "source": [
    "Use Seaborn's \"whitegrid\" style for these plots.\n",
    "\n",
    "Create a JointGrid() with \"hum\" on the x-axis and \"total_rentals\" on the y.\n",
    "\n",
    "Plot a regplot() and histplot() on the margins."
   ]
  },
  {
   "cell_type": "code",
   "execution_count": null,
   "metadata": {},
   "outputs": [],
   "source": [
    "# Build a JointGrid comparing humidity and total_rentals\n",
    "sns.set_style(\"whitegrid\")\n",
    "g = sns.JointGrid(x=\"hum\",\n",
    "                  y=\"total_rentals\",\n",
    "                  data=df,\n",
    "                  xlim=(0.1, 1.0))\n",
    "\n",
    "g.plot(sns.regplot, sns.histplot)\n",
    "\n",
    "plt.show()\n",
    "plt.clf()"
   ]
  },
  {
   "attachments": {},
   "cell_type": "markdown",
   "metadata": {},
   "source": [
    "Re-create the plot using a jointplot()."
   ]
  },
  {
   "cell_type": "code",
   "execution_count": null,
   "metadata": {},
   "outputs": [],
   "source": [
    "# Create a jointplot similar to the JointGrid\n",
    "sns.jointplot(x=\"hum\",\n",
    "              y=\"total_rentals\",\n",
    "              kind='reg',\n",
    "              data=df)\n",
    "\n",
    "plt.show()\n",
    "plt.clf()"
   ]
  },
  {
   "attachments": {},
   "cell_type": "markdown",
   "metadata": {},
   "source": [
    "Create a jointplot with a 2nd order polynomial regression plot comparing temp and total_rentals."
   ]
  },
  {
   "cell_type": "code",
   "execution_count": null,
   "metadata": {},
   "outputs": [],
   "source": [
    "# Plot temp vs. total_rentals as a regression plot\n",
    "sns.jointplot(x=\"temp\",\n",
    "              y=\"total_rentals\",\n",
    "              kind='reg',\n",
    "              data=df,\n",
    "              order=2,\n",
    "              xlim=(0, 1))\n",
    "\n",
    "plt.show()\n",
    "plt.clf()"
   ]
  },
  {
   "attachments": {},
   "cell_type": "markdown",
   "metadata": {},
   "source": [
    "Use a residual plot to check the appropriateness of the model."
   ]
  },
  {
   "cell_type": "code",
   "execution_count": null,
   "metadata": {},
   "outputs": [],
   "source": [
    "# Plot a jointplot showing the residuals\n",
    "sns.jointplot(x=\"temp\",\n",
    "              y=\"total_rentals\",\n",
    "              kind='resid',\n",
    "              data=df,\n",
    "              order=2)\n",
    "\n",
    "plt.show()\n",
    "plt.clf()"
   ]
  },
  {
   "attachments": {},
   "cell_type": "markdown",
   "metadata": {},
   "source": [
    "Create a jointplot with a scatter plot comparing temp and casual riders.\n",
    "\n",
    "Overlay a kdeplot on top of the scatter plot."
   ]
  },
  {
   "cell_type": "code",
   "execution_count": null,
   "metadata": {},
   "outputs": [],
   "source": [
    "# Create a jointplot of temp vs. casual riders\n",
    "# Include a kdeplot over the scatter plot\n",
    "g = sns.jointplot(x=\"temp\",\n",
    "                   y=\"casual\",\n",
    "                   kind='scatter',\n",
    "                   data=df,\n",
    "                   marginal_kws=dict(bins=10))\n",
    "g.plot_joint(sns.kdeplot)\n",
    "\n",
    "plt.show()\n",
    "plt.clf()"
   ]
  },
  {
   "attachments": {},
   "cell_type": "markdown",
   "metadata": {},
   "source": [
    "Build a similar plot for registered users."
   ]
  },
  {
   "cell_type": "code",
   "execution_count": null,
   "metadata": {},
   "outputs": [],
   "source": [
    "# Replicate the previous plot but only for registered riders\n",
    "g = sns.jointplot(x=\"temp\",\n",
    "                   y=\"registered\",\n",
    "                   kind='scatter',\n",
    "                   data=df,\n",
    "                   marginal_kws=dict(bins=10))\n",
    "g.plot_joint(sns.kdeplot)\n",
    "\n",
    "plt.show()\n",
    "plt.clf()"
   ]
  }
 ],
 "metadata": {
  "language_info": {
   "name": "python"
  },
  "orig_nbformat": 4
 },
 "nbformat": 4,
 "nbformat_minor": 2
}
