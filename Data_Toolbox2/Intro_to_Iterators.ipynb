{
 "cells": [
  {
   "attachments": {},
   "cell_type": "markdown",
   "metadata": {},
   "source": [
    "- Create a for loop to loop over flash and print the values in the list. Use person as the loop variable.\n",
    "- Create an iterator for the list flash and assign the result to superhero.\n",
    "- Print each of the items from superhero using next() 4 times."
   ]
  },
  {
   "cell_type": "code",
   "execution_count": 10,
   "metadata": {},
   "outputs": [
    {
     "name": "stdout",
     "output_type": "stream",
     "text": [
      "jay garrick\n",
      "barry allen\n",
      "wally west\n",
      "bart allen\n",
      "b\n",
      "a\n",
      "r\n",
      "t\n"
     ]
    }
   ],
   "source": [
    "person = ['jay garrick', 'barry allen', 'wally west', 'bart allen']\n",
    "for flash in person:\n",
    "    print(flash)\n",
    "\n",
    "superhero = iter(flash)\n",
    "\n",
    "print(next(superhero))\n",
    "print(next(superhero))\n",
    "print(next(superhero))\n",
    "print(next(superhero))\n"
   ]
  },
  {
   "attachments": {},
   "cell_type": "markdown",
   "metadata": {},
   "source": [
    "- Create an iterator object small_value over range(3) using the function iter().\n",
    "- Using a for loop, iterate over range(3), printing the value for every iteration. Use num as the loop variable.\n",
    "- Create an iterator object googol over range(10 ** 100)."
   ]
  },
  {
   "cell_type": "code",
   "execution_count": null,
   "metadata": {},
   "outputs": [],
   "source": []
  }
 ],
 "metadata": {
  "kernelspec": {
   "display_name": "Python 3.10.3 64-bit",
   "language": "python",
   "name": "python3"
  },
  "language_info": {
   "codemirror_mode": {
    "name": "ipython",
    "version": 3
   },
   "file_extension": ".py",
   "mimetype": "text/x-python",
   "name": "python",
   "nbconvert_exporter": "python",
   "pygments_lexer": "ipython3",
   "version": "3.10.3 (tags/v3.10.3:a342a49, Mar 16 2022, 13:07:40) [MSC v.1929 64 bit (AMD64)]"
  },
  "orig_nbformat": 4,
  "vscode": {
   "interpreter": {
    "hash": "af8b52c13083511df199fdc7122705806532d8bc2bbf3084333536638eae6ca0"
   }
  }
 },
 "nbformat": 4,
 "nbformat_minor": 2
}
