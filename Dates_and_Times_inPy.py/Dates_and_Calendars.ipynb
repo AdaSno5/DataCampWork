{
 "cells": [
  {
   "attachments": {},
   "cell_type": "markdown",
   "metadata": {},
   "source": [
    "Import date from datetime.\n",
    "Create a date object for August 24, 1992.\n",
    "Now ask Python what day of the week Hurricane Andrew hit (remember that Python counts days of the week starting from Monday as 0, Tuesday as 1, and so on)."
   ]
  },
  {
   "cell_type": "code",
   "execution_count": null,
   "metadata": {},
   "outputs": [],
   "source": [
    "# Import date from datetime\n",
    "from datetime import date\n",
    "\n",
    "# Create a date object\n",
    "hurricane_andrew = date(1992, 8, 24)\n",
    "\n",
    "# Which day of the week is the date?\n",
    "print(hurricane_andrew.weekday())"
   ]
  },
  {
   "attachments": {},
   "cell_type": "markdown",
   "metadata": {},
   "source": [
    "Complete the for loop to iterate through florida_hurricane_dates.\n",
    "Complete the if statement to increment the counter (early_hurricanes) if the hurricane made landfall before June."
   ]
  },
  {
   "cell_type": "code",
   "execution_count": null,
   "metadata": {},
   "outputs": [],
   "source": [
    "# Counter for how many before June 1\n",
    "early_hurricanes = 0\n",
    "\n",
    "# We loop over the dates\n",
    "for hurricane in florida_hurricane_dates:\n",
    "  # Check if the month is before June (month number 6)\n",
    "  if hurricane.month < 6:\n",
    "    early_hurricanes = early_hurricanes + 1\n",
    "    \n",
    "print(early_hurricanes)"
   ]
  }
 ],
 "metadata": {
  "language_info": {
   "name": "python"
  },
  "orig_nbformat": 4
 },
 "nbformat": 4,
 "nbformat_minor": 2
}
