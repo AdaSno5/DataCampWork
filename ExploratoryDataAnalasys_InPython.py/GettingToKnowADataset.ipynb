{
 "cells": [
  {
   "attachments": {},
   "cell_type": "markdown",
   "metadata": {},
   "source": [
    "Use a pandas function to print the first five rows of the unemployment DataFrame.\n",
    "Use a pandas function to print a summary of column non-missing values and data types from the unemployment DataFrame.\n",
    "Print the summary statistics (count, mean, standard deviation, min, max, and quartile values) of each numerical column in unemployment."
   ]
  },
  {
   "cell_type": "code",
   "execution_count": null,
   "metadata": {},
   "outputs": [],
   "source": [
    "# Use a pandas function to print the first five rows of the unemployment DataFrame.\n",
    "print(unemployment.head())\n",
    "# Print a summary of non-missing values and data types in the unemployment DataFrame\n",
    "print(unemployment.info())\n",
    "# Print summary statistics for numerical columns in unemployment\n",
    "print(unemployment.describe())"
   ]
  },
  {
   "attachments": {},
   "cell_type": "markdown",
   "metadata": {},
   "source": [
    "Use a pandas function to count the values associated with each continent in the unemployment DataFrame."
   ]
  },
  {
   "cell_type": "code",
   "execution_count": null,
   "metadata": {},
   "outputs": [],
   "source": [
    "# Count the values associated with each continent in unemployment\n",
    "print(unemployment[\"continent\"].value_counts())"
   ]
  },
  {
   "attachments": {},
   "cell_type": "markdown",
   "metadata": {},
   "source": [
    "Import the required visualization libraries.\n",
    "Create a histogram of the distribution of 2021 unemployment percentages across all countries in unemployment; show a full percentage point in each bin."
   ]
  },
  {
   "cell_type": "code",
   "execution_count": null,
   "metadata": {},
   "outputs": [],
   "source": [
    "# Import the required visualization libraries\n",
    "import seaborn as sns\n",
    "import matplotlib.pyplot as plt\n",
    "\n",
    "# Create a histogram of 2021 unemployment; show a full percent in each bin\n",
    "sns.histplot(data=unemployment, x=\"2021\", binwidth=1)\n",
    "plt.show()"
   ]
  },
  {
   "attachments": {},
   "cell_type": "markdown",
   "metadata": {},
   "source": [
    "Update the data type of the 2019 column of unemployment to float.\n",
    "Print the dtypes of the unemployment DataFrame again to check that the data type has been updated!"
   ]
  },
  {
   "cell_type": "code",
   "execution_count": null,
   "metadata": {},
   "outputs": [],
   "source": [
    "# Update the data type of the 2019 column to a float\n",
    "unemployment[\"2019\"] = unemployment[\"2019\"].astype(float)\n",
    "# Print the dtypes to check your work\n",
    "print(unemployment.dtypes)"
   ]
  },
  {
   "attachments": {},
   "cell_type": "markdown",
   "metadata": {},
   "source": [
    "Define a Series of Booleans describing whether or not each continent is outside of Oceania; call this Series not_oceania."
   ]
  },
  {
   "cell_type": "code",
   "execution_count": null,
   "metadata": {},
   "outputs": [],
   "source": [
    "# Define a Series describing whether each continent is outside of Oceania\n",
    "not_oceania = ~unemployment[\"continent\"].isin([\"Oceania\"])"
   ]
  },
  {
   "attachments": {},
   "cell_type": "markdown",
   "metadata": {},
   "source": [
    "Use Boolean indexing to print the unemployment DataFrame without any of the data related to countries in Oceania."
   ]
  },
  {
   "cell_type": "code",
   "execution_count": null,
   "metadata": {},
   "outputs": [],
   "source": [
    "# Define a Series describing whether each continent is outside of Oceania\n",
    "not_oceania = ~unemployment[\"continent\"].isin([\"Oceania\"])\n",
    "\n",
    "# Print unemployment without records related to countries in Oceania\n",
    "print(unemployment[not_oceania])"
   ]
  },
  {
   "attachments": {},
   "cell_type": "markdown",
   "metadata": {},
   "source": [
    "Print the minimum and maximum unemployment rates, in that order, during 2021.\n",
    "Create a boxplot of 2021 unemployment rates, broken down by continent."
   ]
  },
  {
   "cell_type": "code",
   "execution_count": null,
   "metadata": {},
   "outputs": [],
   "source": [
    "# Print the minimum and maximum unemployment rates during 2021\n",
    "print(unemployment[\"2021\"].min(), unemployment[\"2021\"].max())\n",
    "\n",
    "# Create a boxplot of 2021 unemployment rates, broken down by continent\n",
    "sns.boxplot(data=unemployment, x=\"2021\", y=\"continent\")\n",
    "plt.show()"
   ]
  },
  {
   "attachments": {},
   "cell_type": "markdown",
   "metadata": {},
   "source": [
    "Print the mean and standard deviation of the unemployment rates for each year.\n",
    "\n",
    "Print the mean and standard deviation of the unemployment rates for each year, grouped by continent."
   ]
  },
  {
   "cell_type": "code",
   "execution_count": null,
   "metadata": {},
   "outputs": [],
   "source": [
    "# Print the mean and standard deviation of rates by year\n",
    "print(unemployment.agg([\"mean\", \"std\"]))\n",
    "\n",
    "# Print yearly mean and standard deviation grouped by continent\n",
    "print(unemployment.groupby(\"continent\").agg([\"mean\", \"std\"]))"
   ]
  },
  {
   "attachments": {},
   "cell_type": "markdown",
   "metadata": {},
   "source": [
    "Create a column called mean_rate_2021 which shows the mean 2021 unemployment rate for each continent.\n",
    "Create a column called std_rate_2021 which shows the standard deviation of the 2021 unemployment rate for each continent."
   ]
  },
  {
   "cell_type": "code",
   "execution_count": null,
   "metadata": {},
   "outputs": [],
   "source": [
    "continent_summary = unemployment.groupby(\"continent\").agg(\n",
    "    # Create the mean_rate_2021 column\n",
    "    mean_rate_2021=(\"2021\", \"mean\"),\n",
    "    # Create the std_rate_2021 column\n",
    "    std_rate_2021=(\"2021\", \"std\")\n",
    ")\n",
    "print(continent_summary)"
   ]
  },
  {
   "attachments": {},
   "cell_type": "markdown",
   "metadata": {},
   "source": [
    "Create a bar plot showing continents on the x-axis and their respective average 2021 unemployment rates on the y-axis."
   ]
  },
  {
   "cell_type": "code",
   "execution_count": null,
   "metadata": {},
   "outputs": [],
   "source": [
    "# Create a bar plot of continents and their 2021 average unemployment\n",
    "sns.barplot(data=unemployment, x=\"continent\", y=\"2021\")\n",
    "plt.show()"
   ]
  }
 ],
 "metadata": {
  "language_info": {
   "name": "python"
  },
  "orig_nbformat": 4
 },
 "nbformat": 4,
 "nbformat_minor": 2
}
