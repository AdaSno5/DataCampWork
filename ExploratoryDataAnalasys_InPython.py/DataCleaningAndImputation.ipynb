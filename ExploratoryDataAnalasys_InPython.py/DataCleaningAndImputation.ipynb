{
 "cells": [
  {
   "attachments": {},
   "cell_type": "markdown",
   "metadata": {},
   "source": [
    "Print the number of missing values in each column of the DataFrame.\n",
    "\n",
    "Calculate how many observations five percent of the planes DataFrame is equal to.\n",
    "\n",
    "Create cols_to_drop by applying boolean indexing to columns of the DataFrame with missing values less than or equal to the threshold.\n",
    "Use this filter to remove missing values and save the updated DataFrame."
   ]
  },
  {
   "cell_type": "code",
   "execution_count": null,
   "metadata": {},
   "outputs": [],
   "source": [
    "# Count the number of missing values in each column\n",
    "print(planes.isna().sum())\n",
    "\n",
    "# Count the number of missing values in each column\n",
    "print(planes.isna().sum())\n",
    "\n",
    "# Find the five percent threshold\n",
    "threshold = len(planes) * 0.05\n",
    "\n",
    "# Count the number of missing values in each column\n",
    "print(planes.isna().sum())\n",
    "\n",
    "# Find the five percent threshold\n",
    "threshold = len(planes) * 0.05\n",
    "\n",
    "# Create a filter\n",
    "cols_to_drop = planes.columns[planes.isna().sum() <= threshold]\n",
    "\n",
    "# Drop missing values for columns below the threshold\n",
    "planes.dropna(subset=cols_to_drop, inplace=True)\n",
    "\n",
    "print(planes.isna().sum())"
   ]
  },
  {
   "attachments": {},
   "cell_type": "markdown",
   "metadata": {},
   "source": [
    "Print the values and frequencies of \"Additional_Info\".\n",
    "\n",
    "Create a boxplot of \"Price\" by \"Airline\"."
   ]
  },
  {
   "cell_type": "code",
   "execution_count": null,
   "metadata": {},
   "outputs": [],
   "source": [
    "# Check the values of the Additional_Info column\n",
    "print(planes[\"Additional_Info\"].value_counts())\n",
    "\n",
    "# Check the values of the Additional_Info column\n",
    "print(planes[\"Additional_Info\"].value_counts())\n",
    "\n",
    "# Create a box plot of Price by Airline\n",
    "sns.boxplot(data=planes, x=\"Airline\", y=\"Price\")\n",
    "\n",
    "plt.show()"
   ]
  },
  {
   "attachments": {},
   "cell_type": "markdown",
   "metadata": {},
   "source": [
    "Group planes by airline and calculate the median price."
   ]
  },
  {
   "cell_type": "code",
   "execution_count": null,
   "metadata": {},
   "outputs": [],
   "source": [
    "# Calculate median plane ticket prices by Airline\n",
    "airline_prices = planes.groupby(\"Airline\")[\"Price\"].median()\n",
    "\n",
    "print(airline_prices)"
   ]
  },
  {
   "attachments": {},
   "cell_type": "markdown",
   "metadata": {},
   "source": [
    "Convert the grouped median prices to a dictionary."
   ]
  },
  {
   "cell_type": "code",
   "execution_count": null,
   "metadata": {},
   "outputs": [],
   "source": [
    "# Calculate median plane ticket prices by Airline\n",
    "airline_prices = planes.groupby(\"Airline\")[\"Price\"].median()\n",
    "\n",
    "print(airline_prices)\n",
    "\n",
    "# Convert to a dictionary\n",
    "prices_dict = airline_prices.to_dict()"
   ]
  },
  {
   "attachments": {},
   "cell_type": "markdown",
   "metadata": {},
   "source": [
    "Conditionally impute missing values for \"Price\" by mapping values in the \"Airline column\" based on prices_dict.\n",
    "Check for remaining missing values."
   ]
  },
  {
   "cell_type": "code",
   "execution_count": null,
   "metadata": {},
   "outputs": [],
   "source": [
    "# Calculate median plane ticket prices by Airline\n",
    "airline_prices = planes.groupby(\"Airline\")[\"Price\"].median()\n",
    "\n",
    "print(airline_prices)\n",
    "\n",
    "# Convert to a dictionary\n",
    "prices_dict = airline_prices.to_dict()\n",
    "\n",
    "# Map the dictionary to the missing values\n",
    "planes[\"Price\"] = planes[\"Price\"].fillna(planes[\"Airline\"].map(prices_dict))\n",
    "\n",
    "# Check for missing values\n",
    "print(planes.isna().sum())"
   ]
  },
  {
   "attachments": {},
   "cell_type": "markdown",
   "metadata": {},
   "source": [
    "Filter planes for columns that are of \"object\" data type.\n",
    "Loop through the columns in the dataset.\n",
    "Add the column iterator to the print statement, then call the function to return the number of unique values in the column."
   ]
  },
  {
   "cell_type": "code",
   "execution_count": null,
   "metadata": {},
   "outputs": [],
   "source": [
    "# Filter the DataFrame for object columns\n",
    "non_numeric = planes.select_dtypes(\"object\")\n",
    "\n",
    "# Loop through columns\n",
    "for col in non_numeric.columns:\n",
    "  \n",
    "  # Print the number of unique values\n",
    "  print(f\"Number of unique values in {col} column: \", non_numeric[col].nunique())"
   ]
  },
  {
   "attachments": {},
   "cell_type": "markdown",
   "metadata": {},
   "source": [
    "Create a list of categories containing \"Short-haul\", \"Medium\", and \"Long-haul\"."
   ]
  },
  {
   "cell_type": "code",
   "execution_count": null,
   "metadata": {},
   "outputs": [],
   "source": [
    "# Create a list of categories\n",
    "flight_categories = [\"Short-haul\", \"Medium\", \"Long-haul\"]"
   ]
  },
  {
   "attachments": {},
   "cell_type": "markdown",
   "metadata": {},
   "source": [
    "Create short_flights, a string to capture values of \"0h\", \"1h\", \"2h\", \"3h\", or \"4h\".\n",
    "Create medium_flights to capture any values between five and nine hours.\n",
    "Create long_flights to capture any values from 10 hours to 16 hours inclusive."
   ]
  },
  {
   "cell_type": "code",
   "execution_count": null,
   "metadata": {},
   "outputs": [],
   "source": [
    "# Create a list of categories\n",
    "flight_categories = [\"Short-haul\", \"Medium\", \"Long-haul\"]\n",
    "\n",
    "# Create short_flights\n",
    "short_flights = \"0h|1h|2h|3h|4h\"\n",
    "\n",
    "# Create medium_flights\n",
    "medium_flights = \"5h|6h|7h|8h|9h\"\n",
    "\n",
    "# Create long_flights\n",
    "long_flights = \"10h|11h|12h|13h|14h|15h|16h\""
   ]
  },
  {
   "attachments": {},
   "cell_type": "markdown",
   "metadata": {},
   "source": [
    "Create conditions, a list containing subsets of planes[\"Duration\"] based on short_flights, medium_flights, and long_flights.\n",
    "Create the \"Duration_Category\" column by calling a function that accepts your conditions list and flight_categories, setting values not found to \"Extreme duration\".\n",
    "Create a plot showing the count of each category."
   ]
  },
  {
   "cell_type": "code",
   "execution_count": null,
   "metadata": {},
   "outputs": [],
   "source": [
    "# Create conditions for values in flight_categories to be created\n",
    "conditions = [\n",
    "    (planes[\"Duration\"].str.contains(short_flights)),\n",
    "    (planes[\"Duration\"].str.contains(medium_flights)),\n",
    "    (planes[\"Duration\"].str.contains(long_flights))\n",
    "]\n",
    "\n",
    "# Apply the conditions list to the flight_categories\n",
    "planes[\"Duration_Category\"] = np.select(conditions, \n",
    "                                        flight_categories,\n",
    "                                        default=\"Extreme duration\")\n",
    "\n",
    "# Plot the counts of each category\n",
    "sns.countplot(data=planes, x=\"Duration_Category\")\n",
    "plt.show()"
   ]
  },
  {
   "attachments": {},
   "cell_type": "markdown",
   "metadata": {},
   "source": [
    "Working With Numeric Data"
   ]
  },
  {
   "attachments": {},
   "cell_type": "markdown",
   "metadata": {},
   "source": [
    "Print the first five values of the \"Duration\" column."
   ]
  },
  {
   "cell_type": "code",
   "execution_count": null,
   "metadata": {},
   "outputs": [],
   "source": [
    "# Preview the column\n",
    "print(planes[\"Duration\"].head())"
   ]
  },
  {
   "attachments": {},
   "cell_type": "markdown",
   "metadata": {},
   "source": [
    "Remove \"h\" from the column."
   ]
  },
  {
   "cell_type": "code",
   "execution_count": null,
   "metadata": {},
   "outputs": [],
   "source": [
    "# Remove the string character\n",
    "planes[\"Duration\"] = planes[\"Duration\"].str.replace(\"h\", \"\")"
   ]
  },
  {
   "attachments": {},
   "cell_type": "markdown",
   "metadata": {},
   "source": [
    "Convert the column to float data type."
   ]
  },
  {
   "cell_type": "code",
   "execution_count": null,
   "metadata": {},
   "outputs": [],
   "source": [
    "# Convert to float data type\n",
    "planes[\"Duration\"] = planes[\"Duration\"].astype(float)"
   ]
  },
  {
   "attachments": {},
   "cell_type": "markdown",
   "metadata": {},
   "source": [
    "Plot a histogram of \"Duration\" values."
   ]
  },
  {
   "cell_type": "code",
   "execution_count": null,
   "metadata": {},
   "outputs": [],
   "source": [
    "# Plot a histogram\n",
    "sns.histplot(data=planes, x=\"Duration\")\n",
    "plt.show()"
   ]
  },
  {
   "attachments": {},
   "cell_type": "markdown",
   "metadata": {},
   "source": [
    "Add a column to planes containing the standard deviation of \"Price\" based on \"Airline\"."
   ]
  },
  {
   "cell_type": "code",
   "execution_count": null,
   "metadata": {},
   "outputs": [],
   "source": [
    "# Price standard deviation by Airline\n",
    "planes[\"airline_price_st_dev\"] = planes.groupby(\"Airline\")[\"Price\"].transform(lambda x: x.std())\n",
    "\n",
    "print(planes[[\"Airline\", \"airline_price_st_dev\"]].value_counts())"
   ]
  },
  {
   "attachments": {},
   "cell_type": "markdown",
   "metadata": {},
   "source": [
    "Calculate the median for \"Duration\" by \"Airline\", storing it as a column called \"airline_median_duration\""
   ]
  },
  {
   "cell_type": "code",
   "execution_count": null,
   "metadata": {},
   "outputs": [],
   "source": [
    "# Median Duration by Airline\n",
    "planes[\"airline_median_duration\"] = planes.groupby(\"Airline\")[\"Duration\"].transform(lambda x: x.median())\n",
    "\n",
    "print(planes[[\"Airline\",\"airline_median_duration\"]].value_counts())"
   ]
  },
  {
   "attachments": {},
   "cell_type": "markdown",
   "metadata": {},
   "source": [
    "Find the mean \"Price\" by \"Destination\", saving it as a column called \"price_destination_mean\"."
   ]
  },
  {
   "cell_type": "code",
   "execution_count": null,
   "metadata": {},
   "outputs": [],
   "source": [
    "# Mean Price by Destination\n",
    "planes[\"price_destination_mean\"] = planes.groupby(\"Destination\")[\"Price\"].transform(lambda x: x.mean())\n",
    "\n",
    "print(planes[[\"Destination\",\"price_destination_mean\"]].value_counts())"
   ]
  },
  {
   "attachments": {},
   "cell_type": "markdown",
   "metadata": {},
   "source": [
    "Plot the distribution of \"Price\" column from planes."
   ]
  },
  {
   "cell_type": "code",
   "execution_count": null,
   "metadata": {},
   "outputs": [],
   "source": [
    "# Plot a histogram of flight prices\n",
    "sns.histplot(data=planes, x=\"Price\")\n",
    "plt.show()"
   ]
  },
  {
   "attachments": {},
   "cell_type": "markdown",
   "metadata": {},
   "source": [
    "Display the descriptive statistics for flight duration."
   ]
  },
  {
   "cell_type": "code",
   "execution_count": null,
   "metadata": {},
   "outputs": [],
   "source": [
    "# Plot a histogram of flight prices\n",
    "sns.histplot(data=planes, x=\"Price\")\n",
    "plt.show()\n",
    "\n",
    "# Display descriptive statistics for flight duration\n",
    "print(planes[\"Duration\"].describe())"
   ]
  },
  {
   "attachments": {},
   "cell_type": "markdown",
   "metadata": {},
   "source": [
    "Find the 75th and 25th percentiles, saving as price_seventy_fifth and price_twenty_fifth respectively."
   ]
  },
  {
   "cell_type": "code",
   "execution_count": null,
   "metadata": {},
   "outputs": [],
   "source": [
    "# Find the 75th and 25th percentiles\n",
    "price_seventy_fifth = planes[\"Price\"].quantile(0.75)\n",
    "price_twenty_fifth = planes[\"Price\"].quantile(0.25)"
   ]
  },
  {
   "attachments": {},
   "cell_type": "markdown",
   "metadata": {},
   "source": [
    "Calculate the IQR, storing it as prices_iqr."
   ]
  },
  {
   "cell_type": "code",
   "execution_count": null,
   "metadata": {},
   "outputs": [],
   "source": [
    "# Calculate iqr\n",
    "prices_iqr = price_seventy_fifth - price_twenty_fifth"
   ]
  },
  {
   "attachments": {},
   "cell_type": "markdown",
   "metadata": {},
   "source": [
    "Calculate the upper and lower outlier thresholds."
   ]
  },
  {
   "cell_type": "code",
   "execution_count": null,
   "metadata": {},
   "outputs": [],
   "source": [
    "# Calculate the thresholds\n",
    "upper = price_seventy_fifth + (1.5 * prices_iqr)\n",
    "lower = price_twenty_fifth - (1.5 * prices_iqr)"
   ]
  },
  {
   "attachments": {},
   "cell_type": "markdown",
   "metadata": {},
   "source": [
    "Remove the outliers from planes."
   ]
  },
  {
   "cell_type": "code",
   "execution_count": null,
   "metadata": {},
   "outputs": [],
   "source": [
    "# Subset the data\n",
    "planes = planes[(planes[\"Price\"] > lower) & (planes[\"Price\"] < upper)]\n",
    "\n",
    "print(planes[\"Price\"].describe())"
   ]
  }
 ],
 "metadata": {
  "language_info": {
   "name": "python"
  },
  "orig_nbformat": 4
 },
 "nbformat": 4,
 "nbformat_minor": 2
}
