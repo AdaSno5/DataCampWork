{
 "cells": [
  {
   "attachments": {},
   "cell_type": "markdown",
   "metadata": {},
   "source": [
    "### Learning to COUNT()\n",
    "You saw how to use COUNT() in the video. Do you remember what it returns?\n",
    "\n",
    "Here is a query counting film_id. Select the answer below that correctly describes what the query will return.\n",
    "\n",
    "SELECT COUNT(film_id) AS count_film_id\n",
    "FROM reviews;\n",
    "Run the query in the console to test your theory!"
   ]
  },
  {
   "attachments": {},
   "cell_type": "markdown",
   "metadata": {},
   "source": [
    "#### The number of records containing a film_id"
   ]
  },
  {
   "attachments": {},
   "cell_type": "markdown",
   "metadata": {},
   "source": [
    "### Practice with COUNT()\n",
    "As you've seen, COUNT(*) tells you how many records are in a table. However, if you want to count the number of non-missing values in a particular field, you can call COUNT() on just that field.\n",
    "\n",
    "Let's get some practice with COUNT()! You can look at the data in the tables throughout these exercises by clicking on the table name in the console."
   ]
  },
  {
   "attachments": {},
   "cell_type": "markdown",
   "metadata": {},
   "source": [
    "Count the number of records in the people table, aliasing the result as count_records."
   ]
  },
  {
   "cell_type": "code",
   "execution_count": null,
   "metadata": {
    "vscode": {
     "languageId": "sql"
    }
   },
   "outputs": [],
   "source": [
    "-- Count the number of records in the people table\n",
    "SELECT COUNT(*) AS count_records\n",
    "FROM people;"
   ]
  },
  {
   "attachments": {},
   "cell_type": "markdown",
   "metadata": {},
   "source": [
    "Count the number of records with a birthdate in the people table, aliasing the result as count_birthdate."
   ]
  },
  {
   "cell_type": "code",
   "execution_count": null,
   "metadata": {
    "vscode": {
     "languageId": "sql"
    }
   },
   "outputs": [],
   "source": [
    "-- Count the number of birthdates in the people table\n",
    "SELECT COUNT(birthdate) AS count_birthdate\n",
    "FROM people;"
   ]
  },
  {
   "attachments": {},
   "cell_type": "markdown",
   "metadata": {},
   "source": [
    "\n",
    "Count the languages and countries in the films table; alias as count_languages and count_countries."
   ]
  },
  {
   "cell_type": "code",
   "execution_count": null,
   "metadata": {
    "vscode": {
     "languageId": "sql"
    }
   },
   "outputs": [],
   "source": [
    "-- Count the languages and countries represented in the films table\n",
    "SELECT COUNT(language) AS count_languages, COUNT(country) AS count_countries\n",
    "FROM films;"
   ]
  },
  {
   "attachments": {},
   "cell_type": "markdown",
   "metadata": {},
   "source": [
    "### SELECT DISTINCT\n",
    "Often query results will include many duplicate values. You can use the DISTINCT keyword to select the unique values from a field.\n",
    "\n",
    "This might be useful if, for example, you're interested in knowing which languages are represented in the films table. See if you can find out what countries are represented in this table with the following exercises.\n",
    "\n",
    "\n",
    "Return the unique countries represented in the films table using DISTINCT."
   ]
  },
  {
   "cell_type": "code",
   "execution_count": null,
   "metadata": {
    "vscode": {
     "languageId": "sql"
    }
   },
   "outputs": [],
   "source": [
    "-- Return the unique countries from the films table\n",
    "SELECT DISTINCT country\n",
    "FROM films;"
   ]
  },
  {
   "attachments": {},
   "cell_type": "markdown",
   "metadata": {},
   "source": [
    "\n",
    "Return the number of unique countries represented in the films table, aliased as count_distinct_countries."
   ]
  },
  {
   "cell_type": "code",
   "execution_count": null,
   "metadata": {
    "vscode": {
     "languageId": "sql"
    }
   },
   "outputs": [],
   "source": [
    "-- Count the distinct countries from the films table\n",
    "SELECT COUNT(DISTINCT country) AS count_distinct_countries\n",
    "FROM films;"
   ]
  },
  {
   "attachments": {},
   "cell_type": "markdown",
   "metadata": {},
   "source": [
    "### Using WHERE with numbers\n",
    "Filtering with WHERE allows you to analyze your data better. You may have a dataset that includes a range of different movies, and you need to do a case study on the most notable films with the biggest budgets. In this case, you'll want to filter your data to a specific budget range.\n",
    "\n",
    "Now it's your turn to use the WHERE clause to filter numeric values!"
   ]
  },
  {
   "attachments": {},
   "cell_type": "markdown",
   "metadata": {},
   "source": [
    "1\n",
    "Select the film_id and imdb_score from the reviews table and filter on scores higher than 7.0."
   ]
  },
  {
   "cell_type": "code",
   "execution_count": null,
   "metadata": {
    "vscode": {
     "languageId": "sql"
    }
   },
   "outputs": [],
   "source": [
    "-- Select film_ids and imdb_score with an imdb_score over 7.0\n",
    "SELECT film_id, imdb_score\n",
    "FROM reviews\n",
    "WHERE imdb_score > 7.0;"
   ]
  },
  {
   "attachments": {},
   "cell_type": "markdown",
   "metadata": {},
   "source": [
    "Select the film_id and facebook_likes of the first ten records with less than 1000 likes from the reviews table."
   ]
  },
  {
   "cell_type": "code",
   "execution_count": null,
   "metadata": {
    "vscode": {
     "languageId": "sql"
    }
   },
   "outputs": [],
   "source": [
    "-- Select film_ids and facebook_likes for ten records with less than 1000 likes \n",
    "SELECT film_id, facebook_likes\n",
    "FROM reviews\n",
    "WHERE facebook_likes < 1000\n",
    "LIMIT 10;"
   ]
  },
  {
   "attachments": {},
   "cell_type": "markdown",
   "metadata": {},
   "source": [
    "Count how many records have a num_votes of at least 100,000; use the alias films_over_100K_votes."
   ]
  },
  {
   "cell_type": "code",
   "execution_count": null,
   "metadata": {
    "vscode": {
     "languageId": "sql"
    }
   },
   "outputs": [],
   "source": [
    "-- Count the records with at least 100,000 votes\n",
    "SELECT COUNT(*) AS films_over_100K_votes\n",
    "FROM reviews\n",
    "WHERE num_votes >= 100000;"
   ]
  },
  {
   "attachments": {},
   "cell_type": "markdown",
   "metadata": {},
   "source": [
    "### WHERE can also filter string values.\n",
    "\n",
    "Imagine you are part of an organization that gives cinematography awards, and you have several international categories. Before you confirm an award for every language listed in your dataset, it may be worth seeing if there are enough films of a specific language to make it a fair competition. If there is only one movie or a significant skew, it may be worth considering a different way of giving international awards.\n",
    "\n",
    "Let's try this out!"
   ]
  },
  {
   "attachments": {},
   "cell_type": "markdown",
   "metadata": {},
   "source": [
    "Select and count the language field using the alias count_spanish.\n",
    "\n",
    "Apply a filter to select only Spanish from the language field."
   ]
  },
  {
   "cell_type": "code",
   "execution_count": null,
   "metadata": {
    "vscode": {
     "languageId": "sql"
    }
   },
   "outputs": [],
   "source": [
    "-- Count the Spanish-language films\n",
    "SELECT COUNT(language) AS count_spanish\n",
    "FROM films\n",
    "WHERE language = 'Spanish';"
   ]
  },
  {
   "attachments": {},
   "cell_type": "markdown",
   "metadata": {},
   "source": [
    "#### Using AND\n",
    "The following exercises combine AND and OR with the WHERE clause. Using these operators together strengthens your queries and analyses of data.\n",
    "\n",
    "You will apply these new skills now on the films database."
   ]
  },
  {
   "attachments": {},
   "cell_type": "markdown",
   "metadata": {},
   "source": [
    "Select the title and release_year for all German-language films released before 2000."
   ]
  },
  {
   "cell_type": "code",
   "execution_count": null,
   "metadata": {
    "vscode": {
     "languageId": "sql"
    }
   },
   "outputs": [],
   "source": [
    "\n",
    "SELECT title, release_year\n",
    "FROM films\n",
    "WHERE release_year < 2000\n",
    "\tAND language = 'German';"
   ]
  },
  {
   "attachments": {},
   "cell_type": "markdown",
   "metadata": {},
   "source": [
    "Update the query from the previous step to show German-language films released after 2000 rather than before."
   ]
  },
  {
   "cell_type": "code",
   "execution_count": null,
   "metadata": {},
   "outputs": [],
   "source": [
    "SELECT title, release_year\n",
    "FROM films\n",
    "WHERE release_year > 2000\n",
    "\tAND language = 'German';"
   ]
  },
  {
   "attachments": {},
   "cell_type": "markdown",
   "metadata": {},
   "source": [
    "Select all details for German-language films released after 2000 but before 2010 using only WHERE and AND."
   ]
  },
  {
   "cell_type": "code",
   "execution_count": null,
   "metadata": {
    "vscode": {
     "languageId": "sql"
    }
   },
   "outputs": [],
   "source": [
    "SELECT *\n",
    "FROM films\n",
    "WHERE release_year > 2000 AND release_year < 2010\n",
    "\tAND language = 'German';"
   ]
  },
  {
   "attachments": {},
   "cell_type": "markdown",
   "metadata": {},
   "source": [
    "### Using OR\n",
    "This time you'll write a query to get the title and release_year of films released in 1990 or 1999, which were in English or Spanish and took in more than $2,000,000 gross.\n",
    "\n",
    "It looks like a lot, but you can build the query up one step at a time to get comfortable with the underlying concept in each step. Let's go!"
   ]
  },
  {
   "attachments": {},
   "cell_type": "markdown",
   "metadata": {},
   "source": [
    "Select the title and release_year for films released in 1990 or 1999 using only WHERE and OR."
   ]
  },
  {
   "cell_type": "code",
   "execution_count": null,
   "metadata": {
    "vscode": {
     "languageId": "sql"
    }
   },
   "outputs": [],
   "source": [
    "SELECT title, release_year\n",
    "FROM films\n",
    "WHERE release_year = 1990 \n",
    "OR release_year = 1999;"
   ]
  },
  {
   "attachments": {},
   "cell_type": "markdown",
   "metadata": {},
   "source": [
    "Filter the records to only include English or Spanish-language films."
   ]
  },
  {
   "cell_type": "code",
   "execution_count": null,
   "metadata": {
    "vscode": {
     "languageId": "sql"
    }
   },
   "outputs": [],
   "source": [
    "SELECT title, release_year\n",
    "FROM films\n",
    "WHERE (release_year = 1990 OR release_year = 1999)\n",
    "-- Add a filter to see only English or Spanish-language films\n",
    "\tAND(language = 'English' OR language = 'Spanish');"
   ]
  },
  {
   "attachments": {},
   "cell_type": "markdown",
   "metadata": {},
   "source": [
    "Finally, restrict the query to only return films worth more than $2,000,000 gross."
   ]
  },
  {
   "cell_type": "code",
   "execution_count": null,
   "metadata": {
    "vscode": {
     "languageId": "sql"
    }
   },
   "outputs": [],
   "source": [
    "SELECT title, release_year\n",
    "FROM films\n",
    "WHERE (release_year = 1990 OR release_year = 1999)\n",
    "\tAND (language = 'English' OR language = 'Spanish')\n",
    "\tAND gross > 2000000;"
   ]
  },
  {
   "attachments": {},
   "cell_type": "markdown",
   "metadata": {},
   "source": [
    "### Using BETWEEN\n",
    "Let's use BETWEEN with AND on the films database to get the title and release_year of all Spanish-language films released between 1990 and 2000 (inclusive) with budgets over $100 million.\n",
    "\n",
    "We have broken the problem into smaller steps so that you can build the query as you go along!"
   ]
  },
  {
   "attachments": {},
   "cell_type": "markdown",
   "metadata": {},
   "source": [
    "Select the title and release_year of all films released between 1990 and 2000 (inclusive) using BETWEEN."
   ]
  },
  {
   "cell_type": "code",
   "execution_count": null,
   "metadata": {
    "vscode": {
     "languageId": "sql"
    }
   },
   "outputs": [],
   "source": [
    "SELECT title, release_year\n",
    "FROM films\n",
    "WHERE (release_year BETWEEN 1990 AND 2000)"
   ]
  },
  {
   "attachments": {},
   "cell_type": "markdown",
   "metadata": {},
   "source": [
    "Build on your previous query to select only films with a budget over $100 million."
   ]
  },
  {
   "cell_type": "code",
   "execution_count": null,
   "metadata": {
    "vscode": {
     "languageId": "sql"
    }
   },
   "outputs": [],
   "source": [
    "SELECT title, release_year\n",
    "FROM films\n",
    "WHERE release_year BETWEEN 1990 AND 2000\n",
    "\tAND budget > 100000000;"
   ]
  },
  {
   "attachments": {},
   "cell_type": "markdown",
   "metadata": {},
   "source": [
    "Now, restrict the query to only return Spanish-language films."
   ]
  },
  {
   "cell_type": "code",
   "execution_count": null,
   "metadata": {
    "vscode": {
     "languageId": "sql"
    }
   },
   "outputs": [],
   "source": [
    "SELECT title, release_year\n",
    "FROM films\n",
    "WHERE release_year BETWEEN 1990 AND 2000\n",
    "\tAND budget > 100000000\n",
    "\tAND language = 'Spanish';"
   ]
  },
  {
   "attachments": {},
   "cell_type": "markdown",
   "metadata": {},
   "source": [
    "Finally, amend the query to include all Spanish-language or French-language films with the same criteria."
   ]
  },
  {
   "cell_type": "code",
   "execution_count": null,
   "metadata": {
    "vscode": {
     "languageId": "sql"
    }
   },
   "outputs": [],
   "source": [
    "SELECT title, release_year\n",
    "FROM films\n",
    "WHERE release_year BETWEEN 1990 AND 2000\n",
    "\tAND budget > 100000000\n",
    "\tAND (language = 'Spanish' OR language = 'French');"
   ]
  },
  {
   "attachments": {},
   "cell_type": "markdown",
   "metadata": {},
   "source": [
    "### LIKE and NOT LIKE\n",
    "The LIKE and NOT LIKE operators can be used to find records that either match or do not match a specified pattern, respectively. They can be coupled with the wildcards % and _. The % will match zero or many characters, and _ will match a single character.\n",
    "\n",
    "This is useful when you want to filter text, but not to an exact word.\n",
    "\n",
    "Do the following exercises to gain some practice with these keywords."
   ]
  },
  {
   "cell_type": "markdown",
   "metadata": {},
   "source": []
  },
  {
   "attachments": {},
   "cell_type": "markdown",
   "metadata": {},
   "source": [
    "Select the names of all people whose names begin with 'B'."
   ]
  },
  {
   "cell_type": "code",
   "execution_count": null,
   "metadata": {
    "vscode": {
     "languageId": "sql"
    }
   },
   "outputs": [],
   "source": [
    "SELECT name\n",
    "FROM people\n",
    "WHERE name LIKE 'B%';"
   ]
  },
  {
   "attachments": {},
   "cell_type": "markdown",
   "metadata": {},
   "source": [
    "Select the names of people whose names have 'r' as the second letter."
   ]
  },
  {
   "cell_type": "code",
   "execution_count": null,
   "metadata": {
    "vscode": {
     "languageId": "sql"
    }
   },
   "outputs": [],
   "source": [
    "SELECT name\n",
    "FROM people\n",
    "WHERE name LIKE '_r%';"
   ]
  },
  {
   "attachments": {},
   "cell_type": "markdown",
   "metadata": {},
   "source": [
    "Select the names of people that do not start with A"
   ]
  },
  {
   "cell_type": "code",
   "execution_count": null,
   "metadata": {
    "vscode": {
     "languageId": "sql"
    }
   },
   "outputs": [],
   "source": [
    "SELECT name\n",
    "FROM people\n",
    "WHERE name NOT LIKE  'A%';"
   ]
  },
  {
   "attachments": {},
   "cell_type": "markdown",
   "metadata": {},
   "source": [
    "### WHERE IN\n",
    "You now know you can query multiple conditions using the IN operator and a set of parentheses. It is a valuable piece of code that helps us keep our queries clean and concise.\n",
    "\n",
    "Try using the IN operator yourself!"
   ]
  },
  {
   "attachments": {},
   "cell_type": "markdown",
   "metadata": {},
   "source": [
    "Select the title and release_year of all films released in 1990 or 2000 that were longer than two hours."
   ]
  },
  {
   "cell_type": "code",
   "execution_count": null,
   "metadata": {
    "vscode": {
     "languageId": "sql"
    }
   },
   "outputs": [],
   "source": [
    "SELECT title, release_year\n",
    "FROM films\n",
    "WHERE (release_year = 1990 OR release_year = 2000)\n",
    "    AND duration > 120"
   ]
  },
  {
   "attachments": {},
   "cell_type": "markdown",
   "metadata": {},
   "source": [
    "Select the title and language of all films in English, Spanish, or French using IN."
   ]
  },
  {
   "cell_type": "code",
   "execution_count": null,
   "metadata": {
    "vscode": {
     "languageId": "sql"
    }
   },
   "outputs": [],
   "source": [
    "SELECT title, language\n",
    "FROM films\n",
    "WHERE language IN ('English', 'Spanish', 'French');"
   ]
  },
  {
   "attachments": {},
   "cell_type": "markdown",
   "metadata": {},
   "source": [
    "Select the title, certification and language of all films certified NC-17 or R that are in English, Italian, or Greek."
   ]
  },
  {
   "cell_type": "code",
   "execution_count": null,
   "metadata": {
    "vscode": {
     "languageId": "sql"
    }
   },
   "outputs": [],
   "source": [
    "SELECT title, certification, language\n",
    "FROM films\n",
    "WHERE certification IN ('NC-17', 'R')\n",
    "\tAND language IN ('English', 'Italian', 'Greek');"
   ]
  },
  {
   "attachments": {},
   "cell_type": "markdown",
   "metadata": {},
   "source": [
    "### Combining filtering and selecting\n",
    "Time for a little challenge. So far, your SQL vocabulary from this course includes COUNT(), DISTINCT, LIMIT, WHERE, OR, AND, BETWEEN, LIKE, NOT LIKE, and IN. In this exercise, you will try to use some of these together. Writing more complex queries will be standard for you as you become a qualified SQL programmer.\n",
    "\n",
    "As this query will be a little more complicated than what you've seen so far, we've included a bit of code to get you started. You will be using DISTINCT here too because, surprise, there are two movies named 'Hamlet' in this dataset!\n",
    "\n",
    "Follow the instructions to find out what 90's films we have in our dataset that would be suitable for English-speaking teens."
   ]
  },
  {
   "attachments": {},
   "cell_type": "markdown",
   "metadata": {},
   "source": [
    "Count the unique titles from the films database and use the alias provided.\n",
    "\n",
    "Filter to include only movies with a release_year from 1990 to 1999, inclusive.\n",
    "\n",
    "Add another filter narrowing your query down to English-language films.\n",
    "\n",
    "Add a final filter to select only films with 'G', 'PG', 'PG-13' certifications."
   ]
  },
  {
   "attachments": {},
   "cell_type": "markdown",
   "metadata": {},
   "source": [
    "SELECT COUNT(DISTINCT title) AS nineties_english_films_for_teens\n",
    "FROM films\n",
    "-- Filter to release_years to between 1990 and 1999\n",
    "WHERE release_year BETWEEN 1990 AND 1999\n",
    "-- Filter to English-language films\n",
    "\tAND language = 'English'\n",
    "-- Narrow it down to G, PG, and PG-13 certifications\n",
    "\tAND certification IN ('G', 'PG', 'PG-13');"
   ]
  },
  {
   "attachments": {},
   "cell_type": "markdown",
   "metadata": {},
   "source": [
    "### Practice with NULLs\n",
    "Well done. Now that you know what NULL means and what it's used for, it's time for some more practice!\n",
    "\n",
    "Let's explore the films table again to better understand what data you have."
   ]
  },
  {
   "attachments": {},
   "cell_type": "markdown",
   "metadata": {},
   "source": [
    "\n",
    "Select the title of every film that doesn't have a budget associated with it and use the alias no_budget_info.\n",
    "\n"
   ]
  },
  {
   "cell_type": "code",
   "execution_count": null,
   "metadata": {
    "vscode": {
     "languageId": "sql"
    }
   },
   "outputs": [],
   "source": [
    "SELECT title AS no_budget_info\n",
    "FROM films\n",
    "WHERE budget IS NULL;"
   ]
  },
  {
   "attachments": {},
   "cell_type": "markdown",
   "metadata": {},
   "source": [
    "Count the number of films with a language associated with them and use the alias count_language_known."
   ]
  },
  {
   "cell_type": "code",
   "execution_count": null,
   "metadata": {
    "vscode": {
     "languageId": "sql"
    }
   },
   "outputs": [],
   "source": [
    "SELECT COUNT(*) AS count_language_known\n",
    "FROM films\n",
    "WHERE language IS NOT NULL;"
   ]
  }
 ],
 "metadata": {
  "language_info": {
   "name": "python"
  },
  "orig_nbformat": 4
 },
 "nbformat": 4,
 "nbformat_minor": 2
}
