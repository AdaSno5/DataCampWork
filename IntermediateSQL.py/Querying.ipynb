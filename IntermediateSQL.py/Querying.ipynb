{
 "cells": [
  {
   "attachments": {},
   "cell_type": "markdown",
   "metadata": {},
   "source": [
    "### Learning to COUNT()\n",
    "You saw how to use COUNT() in the video. Do you remember what it returns?\n",
    "\n",
    "Here is a query counting film_id. Select the answer below that correctly describes what the query will return.\n",
    "\n",
    "SELECT COUNT(film_id) AS count_film_id\n",
    "FROM reviews;\n",
    "Run the query in the console to test your theory!"
   ]
  },
  {
   "attachments": {},
   "cell_type": "markdown",
   "metadata": {},
   "source": [
    "#### The number of records containing a film_id"
   ]
  },
  {
   "attachments": {},
   "cell_type": "markdown",
   "metadata": {},
   "source": [
    "### Practice with COUNT()\n",
    "As you've seen, COUNT(*) tells you how many records are in a table. However, if you want to count the number of non-missing values in a particular field, you can call COUNT() on just that field.\n",
    "\n",
    "Let's get some practice with COUNT()! You can look at the data in the tables throughout these exercises by clicking on the table name in the console."
   ]
  },
  {
   "attachments": {},
   "cell_type": "markdown",
   "metadata": {},
   "source": [
    "Count the number of records in the people table, aliasing the result as count_records."
   ]
  },
  {
   "cell_type": "code",
   "execution_count": null,
   "metadata": {},
   "outputs": [],
   "source": [
    "-- Count the number of records in the people table\n",
    "SELECT COUNT(*) AS count_records\n",
    "FROM people;"
   ]
  },
  {
   "attachments": {},
   "cell_type": "markdown",
   "metadata": {},
   "source": [
    "Count the number of records with a birthdate in the people table, aliasing the result as count_birthdate."
   ]
  },
  {
   "cell_type": "code",
   "execution_count": null,
   "metadata": {},
   "outputs": [],
   "source": [
    "-- Count the number of birthdates in the people table\n",
    "SELECT COUNT(birthdate) AS count_birthdate\n",
    "FROM people;"
   ]
  },
  {
   "attachments": {},
   "cell_type": "markdown",
   "metadata": {},
   "source": [
    "\n",
    "Count the languages and countries in the films table; alias as count_languages and count_countries."
   ]
  },
  {
   "cell_type": "code",
   "execution_count": null,
   "metadata": {},
   "outputs": [],
   "source": [
    "-- Count the languages and countries represented in the films table\n",
    "SELECT COUNT(language) AS count_languages, COUNT(country) AS count_countries\n",
    "FROM films;"
   ]
  },
  {
   "attachments": {},
   "cell_type": "markdown",
   "metadata": {},
   "source": [
    "### SELECT DISTINCT\n",
    "Often query results will include many duplicate values. You can use the DISTINCT keyword to select the unique values from a field.\n",
    "\n",
    "This might be useful if, for example, you're interested in knowing which languages are represented in the films table. See if you can find out what countries are represented in this table with the following exercises.\n",
    "\n",
    "\n",
    "Return the unique countries represented in the films table using DISTINCT."
   ]
  },
  {
   "cell_type": "code",
   "execution_count": null,
   "metadata": {},
   "outputs": [],
   "source": [
    "-- Return the unique countries from the films table\n",
    "SELECT DISTINCT country\n",
    "FROM films;"
   ]
  },
  {
   "attachments": {},
   "cell_type": "markdown",
   "metadata": {},
   "source": [
    "\n",
    "Return the number of unique countries represented in the films table, aliased as count_distinct_countries."
   ]
  },
  {
   "cell_type": "code",
   "execution_count": null,
   "metadata": {},
   "outputs": [],
   "source": [
    "-- Count the distinct countries from the films table\n",
    "SELECT COUNT(DISTINCT country) AS count_distinct_countries\n",
    "FROM films;"
   ]
  },
  {
   "attachments": {},
   "cell_type": "markdown",
   "metadata": {},
   "source": [
    "### Using WHERE with numbers\n",
    "Filtering with WHERE allows you to analyze your data better. You may have a dataset that includes a range of different movies, and you need to do a case study on the most notable films with the biggest budgets. In this case, you'll want to filter your data to a specific budget range.\n",
    "\n",
    "Now it's your turn to use the WHERE clause to filter numeric values!"
   ]
  },
  {
   "attachments": {},
   "cell_type": "markdown",
   "metadata": {},
   "source": [
    "1\n",
    "Select the film_id and imdb_score from the reviews table and filter on scores higher than 7.0."
   ]
  },
  {
   "cell_type": "code",
   "execution_count": null,
   "metadata": {},
   "outputs": [],
   "source": [
    "-- Select film_ids and imdb_score with an imdb_score over 7.0\n",
    "SELECT film_id, imdb_score\n",
    "FROM reviews\n",
    "WHERE imdb_score > 7.0;"
   ]
  },
  {
   "attachments": {},
   "cell_type": "markdown",
   "metadata": {},
   "source": [
    "Select the film_id and facebook_likes of the first ten records with less than 1000 likes from the reviews table."
   ]
  },
  {
   "cell_type": "code",
   "execution_count": null,
   "metadata": {},
   "outputs": [],
   "source": [
    "-- Select film_ids and facebook_likes for ten records with less than 1000 likes \n",
    "SELECT film_id, facebook_likes\n",
    "FROM reviews\n",
    "WHERE facebook_likes < 1000\n",
    "LIMIT 10;"
   ]
  },
  {
   "attachments": {},
   "cell_type": "markdown",
   "metadata": {},
   "source": [
    "Count how many records have a num_votes of at least 100,000; use the alias films_over_100K_votes."
   ]
  },
  {
   "cell_type": "code",
   "execution_count": null,
   "metadata": {},
   "outputs": [],
   "source": [
    "-- Count the records with at least 100,000 votes\n",
    "SELECT COUNT(*) AS films_over_100K_votes\n",
    "FROM reviews\n",
    "WHERE num_votes >= 100000;"
   ]
  },
  {
   "attachments": {},
   "cell_type": "markdown",
   "metadata": {},
   "source": [
    "### WHERE can also filter string values.\n",
    "\n",
    "Imagine you are part of an organization that gives cinematography awards, and you have several international categories. Before you confirm an award for every language listed in your dataset, it may be worth seeing if there are enough films of a specific language to make it a fair competition. If there is only one movie or a significant skew, it may be worth considering a different way of giving international awards.\n",
    "\n",
    "Let's try this out!"
   ]
  },
  {
   "attachments": {},
   "cell_type": "markdown",
   "metadata": {},
   "source": [
    "Select and count the language field using the alias count_spanish.\n",
    "\n",
    "Apply a filter to select only Spanish from the language field."
   ]
  },
  {
   "cell_type": "code",
   "execution_count": null,
   "metadata": {},
   "outputs": [],
   "source": [
    "-- Count the Spanish-language films\n",
    "SELECT COUNT(language) AS count_spanish\n",
    "FROM films\n",
    "WHERE language = 'Spanish';"
   ]
  },
  {
   "attachments": {},
   "cell_type": "markdown",
   "metadata": {},
   "source": [
    "#### Using AND\n",
    "The following exercises combine AND and OR with the WHERE clause. Using these operators together strengthens your queries and analyses of data.\n",
    "\n",
    "You will apply these new skills now on the films database."
   ]
  },
  {
   "attachments": {},
   "cell_type": "markdown",
   "metadata": {},
   "source": [
    "Select the title and release_year for all German-language films released before 2000."
   ]
  },
  {
   "cell_type": "code",
   "execution_count": null,
   "metadata": {},
   "outputs": [],
   "source": [
    "\n",
    "SELECT title, release_year\n",
    "FROM films\n",
    "WHERE release_year < 2000\n",
    "\tAND language = 'German';"
   ]
  },
  {
   "attachments": {},
   "cell_type": "markdown",
   "metadata": {},
   "source": [
    "Update the query from the previous step to show German-language films released after 2000 rather than before."
   ]
  },
  {
   "cell_type": "code",
   "execution_count": null,
   "metadata": {},
   "outputs": [],
   "source": [
    "SELECT title, release_year\n",
    "FROM films\n",
    "WHERE release_year > 2000\n",
    "\tAND language = 'German';"
   ]
  },
  {
   "attachments": {},
   "cell_type": "markdown",
   "metadata": {},
   "source": [
    "Select all details for German-language films released after 2000 but before 2010 using only WHERE and AND."
   ]
  },
  {
   "cell_type": "code",
   "execution_count": null,
   "metadata": {},
   "outputs": [],
   "source": [
    "SELECT *\n",
    "FROM films\n",
    "WHERE release_year > 2000 AND release_year < 2010\n",
    "\tAND language = 'German';"
   ]
  },
  {
   "attachments": {},
   "cell_type": "markdown",
   "metadata": {},
   "source": [
    "### Using OR\n",
    "This time you'll write a query to get the title and release_year of films released in 1990 or 1999, which were in English or Spanish and took in more than $2,000,000 gross.\n",
    "\n",
    "It looks like a lot, but you can build the query up one step at a time to get comfortable with the underlying concept in each step. Let's go!"
   ]
  },
  {
   "attachments": {},
   "cell_type": "markdown",
   "metadata": {},
   "source": [
    "Select the title and release_year for films released in 1990 or 1999 using only WHERE and OR."
   ]
  },
  {
   "cell_type": "code",
   "execution_count": null,
   "metadata": {},
   "outputs": [],
   "source": [
    "SELECT title, release_year\n",
    "FROM films\n",
    "WHERE release_year = 1990 \n",
    "OR release_year = 1999;"
   ]
  },
  {
   "attachments": {},
   "cell_type": "markdown",
   "metadata": {},
   "source": [
    "Filter the records to only include English or Spanish-language films."
   ]
  },
  {
   "cell_type": "code",
   "execution_count": null,
   "metadata": {},
   "outputs": [],
   "source": [
    "SELECT title, release_year\n",
    "FROM films\n",
    "WHERE (release_year = 1990 OR release_year = 1999)\n",
    "-- Add a filter to see only English or Spanish-language films\n",
    "\tAND(language = 'English' OR language = 'Spanish');"
   ]
  },
  {
   "attachments": {},
   "cell_type": "markdown",
   "metadata": {},
   "source": [
    "Finally, restrict the query to only return films worth more than $2,000,000 gross."
   ]
  },
  {
   "cell_type": "code",
   "execution_count": null,
   "metadata": {},
   "outputs": [],
   "source": [
    "SELECT title, release_year\n",
    "FROM films\n",
    "WHERE (release_year = 1990 OR release_year = 1999)\n",
    "\tAND (language = 'English' OR language = 'Spanish')\n",
    "\tAND gross > 2000000;"
   ]
  },
  {
   "attachments": {},
   "cell_type": "markdown",
   "metadata": {},
   "source": [
    "### Using BETWEEN\n",
    "Let's use BETWEEN with AND on the films database to get the title and release_year of all Spanish-language films released between 1990 and 2000 (inclusive) with budgets over $100 million.\n",
    "\n",
    "We have broken the problem into smaller steps so that you can build the query as you go along!"
   ]
  },
  {
   "attachments": {},
   "cell_type": "markdown",
   "metadata": {},
   "source": [
    "Select the title and release_year of all films released between 1990 and 2000 (inclusive) using BETWEEN."
   ]
  },
  {
   "cell_type": "code",
   "execution_count": null,
   "metadata": {},
   "outputs": [],
   "source": [
    "SELECT title, release_year\n",
    "FROM films\n",
    "WHERE (release_year BETWEEN 1990 AND 2000)"
   ]
  },
  {
   "attachments": {},
   "cell_type": "markdown",
   "metadata": {},
   "source": [
    "Build on your previous query to select only films with a budget over $100 million."
   ]
  },
  {
   "cell_type": "code",
   "execution_count": null,
   "metadata": {},
   "outputs": [],
   "source": [
    "SELECT title, release_year\n",
    "FROM films\n",
    "WHERE release_year BETWEEN 1990 AND 2000\n",
    "\tAND budget > 100000000;"
   ]
  },
  {
   "attachments": {},
   "cell_type": "markdown",
   "metadata": {},
   "source": [
    "Now, restrict the query to only return Spanish-language films."
   ]
  },
  {
   "cell_type": "code",
   "execution_count": null,
   "metadata": {},
   "outputs": [],
   "source": [
    "SELECT title, release_year\n",
    "FROM films\n",
    "WHERE release_year BETWEEN 1990 AND 2000\n",
    "\tAND budget > 100000000\n",
    "\tAND language = 'Spanish';"
   ]
  },
  {
   "attachments": {},
   "cell_type": "markdown",
   "metadata": {},
   "source": [
    "Finally, amend the query to include all Spanish-language or French-language films with the same criteria."
   ]
  },
  {
   "cell_type": "code",
   "execution_count": null,
   "metadata": {},
   "outputs": [],
   "source": [
    "SELECT title, release_year\n",
    "FROM films\n",
    "WHERE release_year BETWEEN 1990 AND 2000\n",
    "\tAND budget > 100000000\n",
    "\tAND (language = 'Spanish' OR language = 'French');"
   ]
  },
  {
   "cell_type": "markdown",
   "metadata": {},
   "source": []
  },
  {
   "cell_type": "markdown",
   "metadata": {},
   "source": []
  }
 ],
 "metadata": {
  "language_info": {
   "name": "python"
  },
  "orig_nbformat": 4
 },
 "nbformat": 4,
 "nbformat_minor": 2
}
