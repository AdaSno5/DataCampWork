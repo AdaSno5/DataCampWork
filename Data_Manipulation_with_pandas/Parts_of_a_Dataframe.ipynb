{
 "cells": [
  {
   "attachments": {},
   "cell_type": "markdown",
   "metadata": {},
   "source": [
    "## test title\n",
    "something"
   ]
  },
  {
   "cell_type": "code",
   "execution_count": null,
   "metadata": {},
   "outputs": [],
   "source": [
    "# Import pandas using the alias pd\n",
    "import pandas as pd\n",
    "\n",
    "# Print the values of homelessness\n",
    "print(homelessness.values)\n",
    "# Print the column index of homelessness\n",
    "print(homelessness.columns)\n",
    "# Print the row index of homelessness\n",
    "print(homelessness.index)"
   ]
  }
 ],
 "metadata": {
  "kernelspec": {
   "display_name": "Python 3",
   "language": "python",
   "name": "python3"
  },
  "language_info": {
   "name": "python",
   "version": "3.10.9"
  },
  "orig_nbformat": 4,
  "vscode": {
   "interpreter": {
    "hash": "92d20bd482a11fa03b782b26ce9f0745e22a23ae0d14b579ece1692c340c0097"
   }
  }
 },
 "nbformat": 4,
 "nbformat_minor": 2
}
