{
 "cells": [
  {
   "cell_type": "markdown",
   "metadata": {},
   "source": [
    "Setting and removing indexes\n",
    "pandas allows you to designate columns as an index. This enables cleaner code when taking subsets (as well as providing more efficient lookup under some circumstances).\n",
    "\n",
    "In this chapter, you'll be exploring temperatures, a DataFrame of average temperatures in cities around the world. pandas is loaded as pd.\n",
    "\n",
    "Instructions\n",
    "100 XP\n",
    "Look at temperatures.\n",
    "Set the index of temperatures to \"city\", assigning to temperatures_ind.\n",
    "Look at temperatures_ind. How is it different from temperatures?\n",
    "Reset the index of temperatures_ind, keeping its contents.\n",
    "Reset the index of temperatures_ind, dropping its contents."
   ]
  },
  {
   "cell_type": "code",
   "execution_count": null,
   "metadata": {},
   "outputs": [],
   "source": [
    "# Look at temperatures\n",
    "print(temperatures)\n",
    "\n",
    "# Index temperatures by city\n",
    "temperatures_ind = temperatures.set_index('city')\n",
    "\n",
    "# Look at temperatures_ind\n",
    "print(temperatures_ind)\n",
    "\n",
    "# Reset the index, keeping its contents\n",
    "print(temperatures_ind.reset_index())\n",
    "\n",
    "# Reset the index, dropping its contents\n",
    "print(temperatures_ind.reset_index(drop=True))"
   ]
  },
  {
   "cell_type": "markdown",
   "metadata": {},
   "source": [
    "Subsetting with .loc[]\n",
    "The killer feature for indexes is .loc[]: a subsetting method that accepts index values. When you pass it a single argument, it will take a subset of rows.\n",
    "\n",
    "The code for subsetting using .loc[] can be easier to read than standard square bracket subsetting, which can make your code less burdensome to maintain.\n",
    "\n",
    "pandas is loaded as pd. temperatures and temperatures_ind are available; the latter is indexed by city.\n",
    "\n",
    "Instructions\n",
    "100 XP\n",
    "Create a list called cities that contains \"Moscow\" and \"Saint Petersburg\".\n",
    "Use [] subsetting to filter temperatures for rows where the city column takes a value in the cities list.\n",
    "Use .loc[] subsetting to filter temperatures_ind for rows where the city is in the cities list."
   ]
  },
  {
   "cell_type": "code",
   "execution_count": null,
   "metadata": {},
   "outputs": [],
   "source": [
    "# Make a list of cities to subset on\n",
    "cities = ['Moscow', 'Saint Petersburg']\n",
    "\n",
    "# Subset temperatures using square brackets\n",
    "print(temperatures[temperatures['city'].isin(cities)])\n",
    "\n",
    "# Subset temperatures_ind using .loc[]\n",
    "print(temperatures_ind.loc[cities])"
   ]
  },
  {
   "cell_type": "markdown",
   "metadata": {},
   "source": [
    "Setting multi-level indexes\n",
    "Indexes can also be made out of multiple columns, forming a multi-level index (sometimes called a hierarchical index). There is a trade-off to using these.\n",
    "\n",
    "The benefit is that multi-level indexes make it more natural to reason about nested categorical variables. For example, in a clinical trial, you might have control and treatment groups. Then each test subject belongs to one or another group, and we can say that a test subject is nested inside the treatment group. Similarly, in the temperature dataset, the city is located in the country, so we can say a city is nested inside the country.\n",
    "\n",
    "The main downside is that the code for manipulating indexes is different from the code for manipulating columns, so you have to learn two syntaxes and keep track of how your data is represented.\n",
    "\n",
    "pandas is loaded as pd. temperatures is available.\n",
    "\n",
    "Instructions\n",
    "100 XP\n",
    "Set the index of temperatures to the \"country\" and \"city\" columns, and assign this to temperatures_ind.\n",
    "Specify two country/city pairs to keep: \"Brazil\"/\"Rio De Janeiro\" and \"Pakistan\"/\"Lahore\", assigning to rows_to_keep.\n",
    "Print and subset temperatures_ind for rows_to_keep using .loc[]"
   ]
  },
  {
   "cell_type": "code",
   "execution_count": null,
   "metadata": {},
   "outputs": [],
   "source": [
    "# Index temperatures by country & city\n",
    "temperatures_ind = temperatures.set_index([\"country\",\"city\"])\n",
    "\n",
    "# List of tuples: Brazil, Rio De Janeiro & Pakistan, Lahore\n",
    "rows_to_keep = [(\"Brazil\", \"Rio De Janeiro\"),(\"Pakistan\",\"Lahore\")]\n",
    "\n",
    "# Subset for rows to keep\n",
    "print(temperatures_ind.loc[rows_to_keep])"
   ]
  }
 ],
 "metadata": {
  "language_info": {
   "name": "python"
  },
  "orig_nbformat": 4
 },
 "nbformat": 4,
 "nbformat_minor": 2
}
