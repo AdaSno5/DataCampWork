{
 "cells": [
  {
   "cell_type": "markdown",
   "metadata": {},
   "source": [
    "Setting and removing indexes\n",
    "pandas allows you to designate columns as an index. This enables cleaner code when taking subsets (as well as providing more efficient lookup under some circumstances).\n",
    "\n",
    "In this chapter, you'll be exploring temperatures, a DataFrame of average temperatures in cities around the world. pandas is loaded as pd.\n",
    "\n",
    "Instructions\n",
    "100 XP\n",
    "Look at temperatures.\n",
    "Set the index of temperatures to \"city\", assigning to temperatures_ind.\n",
    "Look at temperatures_ind. How is it different from temperatures?\n",
    "Reset the index of temperatures_ind, keeping its contents.\n",
    "Reset the index of temperatures_ind, dropping its contents."
   ]
  },
  {
   "cell_type": "code",
   "execution_count": null,
   "metadata": {},
   "outputs": [],
   "source": [
    "# Look at temperatures\n",
    "print(temperatures)\n",
    "\n",
    "# Index temperatures by city\n",
    "temperatures_ind = temperatures.set_index('city')\n",
    "\n",
    "# Look at temperatures_ind\n",
    "print(temperatures_ind)\n",
    "\n",
    "# Reset the index, keeping its contents\n",
    "print(temperatures_ind.reset_index())\n",
    "\n",
    "# Reset the index, dropping its contents\n",
    "print(temperatures_ind.reset_index(drop=True))"
   ]
  },
  {
   "cell_type": "markdown",
   "metadata": {},
   "source": [
    "Subsetting with .loc[]\n",
    "The killer feature for indexes is .loc[]: a subsetting method that accepts index values. When you pass it a single argument, it will take a subset of rows.\n",
    "\n",
    "The code for subsetting using .loc[] can be easier to read than standard square bracket subsetting, which can make your code less burdensome to maintain.\n",
    "\n",
    "pandas is loaded as pd. temperatures and temperatures_ind are available; the latter is indexed by city.\n",
    "\n",
    "Instructions\n",
    "100 XP\n",
    "Create a list called cities that contains \"Moscow\" and \"Saint Petersburg\".\n",
    "Use [] subsetting to filter temperatures for rows where the city column takes a value in the cities list.\n",
    "Use .loc[] subsetting to filter temperatures_ind for rows where the city is in the cities list."
   ]
  },
  {
   "cell_type": "code",
   "execution_count": null,
   "metadata": {},
   "outputs": [],
   "source": [
    "# Make a list of cities to subset on\n",
    "cities = ['Moscow', 'Saint Petersburg']\n",
    "\n",
    "# Subset temperatures using square brackets\n",
    "print(temperatures[temperatures['city'].isin(cities)])\n",
    "\n",
    "# Subset temperatures_ind using .loc[]\n",
    "print(temperatures_ind.loc[cities])"
   ]
  },
  {
   "cell_type": "markdown",
   "metadata": {},
   "source": [
    "Setting multi-level indexes\n",
    "Indexes can also be made out of multiple columns, forming a multi-level index (sometimes called a hierarchical index). There is a trade-off to using these.\n",
    "\n",
    "The benefit is that multi-level indexes make it more natural to reason about nested categorical variables. For example, in a clinical trial, you might have control and treatment groups. Then each test subject belongs to one or another group, and we can say that a test subject is nested inside the treatment group. Similarly, in the temperature dataset, the city is located in the country, so we can say a city is nested inside the country.\n",
    "\n",
    "The main downside is that the code for manipulating indexes is different from the code for manipulating columns, so you have to learn two syntaxes and keep track of how your data is represented.\n",
    "\n",
    "pandas is loaded as pd. temperatures is available.\n",
    "\n",
    "Instructions\n",
    "100 XP\n",
    "Set the index of temperatures to the \"country\" and \"city\" columns, and assign this to temperatures_ind.\n",
    "Specify two country/city pairs to keep: \"Brazil\"/\"Rio De Janeiro\" and \"Pakistan\"/\"Lahore\", assigning to rows_to_keep.\n",
    "Print and subset temperatures_ind for rows_to_keep using .loc[]"
   ]
  },
  {
   "cell_type": "code",
   "execution_count": null,
   "metadata": {},
   "outputs": [],
   "source": [
    "# Index temperatures by country & city\n",
    "temperatures_ind = temperatures.set_index([\"country\",\"city\"])\n",
    "\n",
    "# List of tuples: Brazil, Rio De Janeiro & Pakistan, Lahore\n",
    "rows_to_keep = [(\"Brazil\", \"Rio De Janeiro\"),(\"Pakistan\",\"Lahore\")]\n",
    "\n",
    "# Subset for rows to keep\n",
    "print(temperatures_ind.loc[rows_to_keep])"
   ]
  },
  {
   "cell_type": "markdown",
   "metadata": {},
   "source": [
    "Sorting by index values\n",
    "Previously, you changed the order of the rows in a DataFrame by calling .sort_values(). It's also useful to be able to sort by elements in the index. For this, you need to use .sort_index().\n",
    "\n",
    "pandas is loaded as pd. temperatures_ind has a multi-level index of country and city, and is available.\n",
    "\n",
    "Instructions\n",
    "100 XP\n",
    "Sort temperatures_ind by the index values.\n",
    "Sort temperatures_ind by the index values at the \"city\" level.\n",
    "Sort temperatures_ind by ascending country then descending city."
   ]
  },
  {
   "cell_type": "code",
   "execution_count": null,
   "metadata": {},
   "outputs": [],
   "source": [
    "# Sort temperatures_ind by index values\n",
    "print(temperatures_ind.sort_index())\n",
    "\n",
    "# Sort temperatures_ind by index values at the city level\n",
    "print(temperatures_ind.sort_index(level='city'))\n",
    "\n",
    "# Sort temperatures_ind by country then descending city\n",
    "print(temperatures_ind.sort_index(level=['country','city'], ascending=[True, False]))"
   ]
  },
  {
   "cell_type": "markdown",
   "metadata": {},
   "source": [
    "Slicing index values\n",
    "Slicing lets you select consecutive elements of an object using first:last syntax. DataFrames can be sliced by index values or by row/column number; we'll start with the first case. This involves slicing inside the .loc[] method.\n",
    "\n",
    "Compared to slicing lists, there are a few things to remember.\n",
    "\n",
    "You can only slice an index if the index is sorted (using .sort_index()).\n",
    "To slice at the outer level, first and last can be strings.\n",
    "To slice at inner levels, first and last should be tuples.\n",
    "If you pass a single slice to .loc[], it will slice the rows.\n",
    "pandas is loaded as pd. temperatures_ind has country and city in the index, and is available.\n",
    "\n",
    "Instructions\n",
    "100 XP\n",
    "Sort the index of temperatures_ind.\n",
    "Use slicing with .loc[] to get these subsets:\n",
    "from Pakistan to Russia.\n",
    "from Lahore to Moscow. (This will return nonsense.)\n",
    "from Pakistan, Lahore to Russia, Moscow.\n"
   ]
  },
  {
   "cell_type": "code",
   "execution_count": null,
   "metadata": {},
   "outputs": [],
   "source": [
    "Sort the index of temperatures_ind\n",
    "temperatures_srt = temperatures_ind.sort_index()\n",
    "\n",
    "# Subset rows from Pakistan to Russia\n",
    "print(temperatures_srt.loc['Pakistan':'Russia'])\n",
    "\n",
    "# Try to subset rows from Lahore to Moscow (This will return nonsense.)\n",
    "print(temperatures_srt.loc['Lahore':'Moscow'])\n",
    "\n",
    "# Subset rows from Pakistan, Lahore to Russia, Moscow\n",
    "print(temperatures_srt.loc[('Pakistan','Lahore'):('Russia', 'Moscow')])"
   ]
  },
  {
   "cell_type": "markdown",
   "metadata": {},
   "source": [
    "Slicing in both directions\n",
    "You've seen slicing DataFrames by rows and by columns, but since DataFrames are two-dimensional objects, it is often natural to slice both dimensions at once. That is, by passing two arguments to .loc[], you can subset by rows and columns in one go.\n",
    "\n",
    "pandas is loaded as pd. temperatures_srt is indexed by country and city, has a sorted index, and is available.\n",
    "\n",
    "Instructions\n",
    "100 XP\n",
    "Use .loc[] slicing to subset rows from India, Hyderabad to Iraq, Baghdad.\n",
    "Use .loc[] slicing to subset columns from date to avg_temp_c.\n",
    "Slice in both directions at once from Hyderabad to Baghdad, and date to avg_temp_c."
   ]
  },
  {
   "cell_type": "code",
   "execution_count": null,
   "metadata": {},
   "outputs": [],
   "source": [
    "Slicing in both directions\n",
    "# Subset rows from India, Hyderabad to Iraq, Baghdad\n",
    "print(temperatures_srt.loc[('India', 'Hyderabad'):('Iraq', 'Baghdad')])\n",
    "\n",
    "# Subset columns from date to avg_temp_c\n",
    "print(temperatures_srt.loc[:, 'date':'avg_temp_c'])\n",
    "\n",
    "# Subset in both directions at once\n",
    "# Subset columns from date to avg_temp_c\n",
    "print(temperatures_srt.loc[('India', 'Hyderabad'):('Iraq', 'Baghdad'), 'date':'avg_temp_c'])"
   ]
  },
  {
   "cell_type": "markdown",
   "metadata": {},
   "source": [
    "Slicing time series\n",
    "Slicing is particularly useful for time series since it's a common thing to want to filter for data within a date range. Add the date column to the index, then use .loc[] to perform the subsetting. The important thing to remember is to keep your dates in ISO 8601 format, that is, \"yyyy-mm-dd\" for year-month-day, \"yyyy-mm\" for year-month, and \"yyyy\" for year.\n",
    "\n",
    "Recall from Chapter 1 that you can combine multiple Boolean conditions using logical operators, such as &. To do so in one line of code, you'll need to add parentheses () around each condition.\n",
    "\n",
    "pandas is loaded as pd and temperatures, with no index, is available.\n",
    "\n",
    "Instructions\n",
    "100 XP\n",
    "Use Boolean conditions, not .isin() or .loc[], and the full date \"yyyy-mm-dd\", to subset temperatures for rows in 2010 and 2011 and print the results.\n",
    "Set the index of temperatures to the date column and sort it.\n",
    "Use .loc[] to subset temperatures_ind for rows in 2010 and 2011.\n",
    "Use .loc[] to subset temperatures_ind for rows from Aug 2010 to Feb 2011.\n"
   ]
  },
  {
   "cell_type": "code",
   "execution_count": null,
   "metadata": {},
   "outputs": [],
   "source": [
    "Slicing time series\n",
    "Add the date column to the index, then use .loc[] to perform the subsetting. The important thing to remember is to keep your dates in ISO 8601 format, that is, yyyy-mm-dd.\n",
    "\n",
    "# Use Boolean conditions to subset temperatures for rows in 2010 and 2011\n",
    "temperatures_bool = temperatures[(temperatures[\"date\"] >= '2010-01-01') & (temperatures[\"date\"] <= '2011-12-31')]\n",
    "print(temperatures_bool)\n",
    "\n",
    "# Set date as an index\n",
    "temperatures_ind = temperatures.set_index('date').sort_index()\n",
    "\n",
    "# Use .loc[] to subset temperatures_ind for rows in 2010 and 2011\n",
    "print(temperatures_ind.loc['2010':'2011'])\n",
    "\n",
    "# Use .loc[] to subset temperatures_ind for rows from Aug 2010 to Feb 2011\n",
    "print(temperatures_ind.loc['2010-08':'2011-2'])"
   ]
  },
  {
   "cell_type": "markdown",
   "metadata": {},
   "source": [
    "Subsetting by row/column number\n",
    "The most common ways to subset rows are the ways we've previously discussed: using a Boolean condition or by index labels. However, it is also occasionally useful to pass row numbers.\n",
    "\n",
    "This is done using .iloc[], and like .loc[], it can take two arguments to let you subset by rows and columns.\n",
    "\n",
    "pandas is loaded as pd. temperatures (without an index) is available.\n",
    "\n",
    "Instructions\n",
    "100 XP\n",
    "Use .iloc[] on temperatures to take subsets.\n",
    "\n",
    "Get the 23rd row, 2nd column (index positions 22 and 1).\n",
    "Get the first 5 rows (index positions 0 to 5).\n",
    "Get all rows, columns 3 and 4 (index positions 2 to 4).\n",
    "Get the first 5 rows, columns 3 and 4."
   ]
  },
  {
   "cell_type": "code",
   "execution_count": null,
   "metadata": {},
   "outputs": [],
   "source": [
    "Subsetting by row/column number\n",
    "This is done using .iloc[], and like .loc[], it can take two arguments to let you subset by rows and columns.\n",
    "\n",
    "# Get 23rd row, 2nd column (index 22, 1)\n",
    "print(temperatures.iloc[22,2])\n",
    "\n",
    "# Use slicing to get the first 5 rows\n",
    "print(temperatures.iloc[:5])\n",
    "\n",
    "# Use slicing to get columns 3 to 4\n",
    "print(temperatures.iloc[:,2:4])\n",
    "\n",
    "# Use slicing in both directions at once\n",
    "print(temperatures.iloc[:5,2:4])"
   ]
  },
  {
   "cell_type": "markdown",
   "metadata": {},
   "source": [
    "Pivot temperature by city and year\n",
    "It's interesting to see how temperatures for each city change over time—looking at every month results in a big table, which can be tricky to reason about. Instead, let's look at how temperatures change by year.\n",
    "\n",
    "You can access the components of a date (year, month and day) using code of the form dataframe[\"column\"].dt.component. For example, the month component is dataframe[\"column\"].dt.month, and the year component is dataframe[\"column\"].dt.year.\n",
    "\n",
    "Once you have the year column, you can create a pivot table with the data aggregated by city and year, which you'll explore in the coming exercises.\n",
    "\n",
    "pandas is loaded as pd. temperatures is available.\n",
    "\n",
    "Instructions\n",
    "100 XP\n",
    "Add a year column to temperatures, from the year component of the date column.\n",
    "Make a pivot table of the avg_temp_c column, with country and city as rows, and year as columns. Assign to temp_by_country_city_vs_year, and look at the result."
   ]
  },
  {
   "cell_type": "code",
   "execution_count": null,
   "metadata": {},
   "outputs": [],
   "source": [
    "\n",
    "# Add a year column to temperatures\n",
    "temperatures['year'] = temperatures['date'].dt.year\n",
    "\n",
    "# Pivot avg_temp_c by country and city vs year\n",
    "temp_by_country_city_vs_year = temperatures.pivot_table('avg_temp_c', index=['country','city'], columns='year')\n",
    "\n",
    "# See the result\n",
    "print(temp_by_country_city_vs_year)"
   ]
  },
  {
   "cell_type": "markdown",
   "metadata": {},
   "source": [
    "Subsetting pivot tables\n",
    "A pivot table is just a DataFrame with sorted indexes, so the techniques you have learned already can be used to subset them. In particular, the .loc[] + slicing combination is often helpful.\n",
    "\n",
    "pandas is loaded as pd. temp_by_country_city_vs_year is available.\n",
    "\n",
    "Instructions\n",
    "100 XP\n",
    "Use .loc[] on temp_by_country_city_vs_year to take subsets.\n",
    "\n",
    "From Egypt to India.\n",
    "From Egypt, Cairo to India, Delhi.\n",
    "From Egypt, Cairo to India, Delhi, and 2005 to 2010."
   ]
  },
  {
   "cell_type": "code",
   "execution_count": null,
   "metadata": {},
   "outputs": [],
   "source": [
    "# Subset for Egypt to India\n",
    "temp_by_country_city_vs_year.loc['Egypt':'India']\n",
    "\n",
    "# Subset for Egypt, Cairo to India, Delhi\n",
    "temp_by_country_city_vs_year.loc[('Egypt','Cairo'):('India','Delhi')]\n",
    "\n",
    "# Subset in both directions at once\n",
    "temp_by_country_city_vs_year.loc[('Egypt','Cairo'):('India','Delhi'),'2005':'2010']"
   ]
  }
 ],
 "metadata": {
  "language_info": {
   "name": "python"
  },
  "orig_nbformat": 4
 },
 "nbformat": 4,
 "nbformat_minor": 2
}
