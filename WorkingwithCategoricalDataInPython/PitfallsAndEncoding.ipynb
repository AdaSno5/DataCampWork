{
 "cells": [
  {
   "attachments": {},
   "cell_type": "markdown",
   "metadata": {},
   "source": [
    "Print the frequency table of the \"body_type\" column for used_cars and include NaN values"
   ]
  },
  {
   "cell_type": "code",
   "execution_count": null,
   "metadata": {},
   "outputs": [],
   "source": [
    "# Print the frequency table of body_type and include NaN values\n",
    "print(used_cars[\"body_type\"].value_counts(dropna=False))"
   ]
  },
  {
   "attachments": {},
   "cell_type": "markdown",
   "metadata": {},
   "source": [
    "Update the .loc statement so that all NaN values in \"body_type\" are set to \"other\"."
   ]
  },
  {
   "cell_type": "code",
   "execution_count": null,
   "metadata": {},
   "outputs": [],
   "source": [
    "# Update NaN values\n",
    "used_cars.loc[used_cars[\"body_type\"].isna(), \"body_type\"] = \"other\""
   ]
  },
  {
   "attachments": {},
   "cell_type": "markdown",
   "metadata": {},
   "source": [
    "Convert the \"body_type\" column to title case."
   ]
  },
  {
   "cell_type": "code",
   "execution_count": null,
   "metadata": {},
   "outputs": [],
   "source": [
    "# Convert body_type to title case\n",
    "used_cars[\"body_type\"] = used_cars[\"body_type\"].str.title()"
   ]
  },
  {
   "attachments": {},
   "cell_type": "markdown",
   "metadata": {},
   "source": [
    "Check the dtype of the \"body_type\" column."
   ]
  },
  {
   "cell_type": "code",
   "execution_count": null,
   "metadata": {},
   "outputs": [],
   "source": [
    "# Check the dtype\n",
    "print(used_cars[\"body_type\"].dtype)"
   ]
  },
  {
   "attachments": {},
   "cell_type": "markdown",
   "metadata": {},
   "source": [
    "Print the frequency table of the \"Sale Rating\" column of the used_cars dataset."
   ]
  },
  {
   "cell_type": "code",
   "execution_count": null,
   "metadata": {},
   "outputs": [],
   "source": [
    "# Print the frequency table of Sale Rating\n",
    "print(used_cars[\"Sale Rating\"].value_counts())"
   ]
  },
  {
   "attachments": {},
   "cell_type": "markdown",
   "metadata": {},
   "source": [
    "Correct the second statement by converting the column to type int before calling .mean()."
   ]
  },
  {
   "cell_type": "code",
   "execution_count": null,
   "metadata": {},
   "outputs": [],
   "source": [
    "# Find the average score\n",
    "average_score = used_cars[\"Sale Rating\"].astype(int).mean()\n",
    "\n",
    "# Print the average\n",
    "print(average_score)"
   ]
  },
  {
   "attachments": {},
   "cell_type": "markdown",
   "metadata": {},
   "source": [
    "Convert the color column to a categorical Series.\n",
    "\n",
    "Create a new column, \"color_code\", by creating a label encoding for the variable \"color\".\n",
    "\n",
    "Before you forget which codes belong to which categories, create a color map using the codes and categories objects.\n",
    "\n",
    "Print the new color map to see which codes map to which categories."
   ]
  },
  {
   "cell_type": "code",
   "execution_count": null,
   "metadata": {},
   "outputs": [],
   "source": [
    "# Convert to categorical and print the frequency table\n",
    "used_cars[\"color\"] = used_cars[\"color\"].astype(\"category\")\n",
    "print(used_cars[\"color\"].value_counts())\n",
    "\n",
    "# Create a label encoding\n",
    "used_cars[\"color_code\"] = used_cars[\"color\"].cat.codes\n",
    "\n",
    "# Create codes and categories objects\n",
    "codes = used_cars['color_code']\n",
    "categories = used_cars[\"color\"]\n",
    "color_map = dict(zip(codes, categories))\n",
    "\n",
    "# Print the map\n",
    "print(color_map)"
   ]
  },
  {
   "attachments": {},
   "cell_type": "markdown",
   "metadata": {},
   "source": [
    "Update the \"color\" column back to its original values using the color_map dictionary.\n",
    "\n",
    "Update the \"engine_fuel\" column back to its original values using the fuel_map dictionary.\n",
    "\n",
    "Update the \"transmission\" column back to its original values using the transmission_map dictionary.\n",
    "\n",
    "Use .info() on the dataset to see if the dtypes have changed."
   ]
  },
  {
   "cell_type": "code",
   "execution_count": null,
   "metadata": {},
   "outputs": [],
   "source": [
    "# Update the color column using the color_map\n",
    "used_cars_updated[\"color\"] = used_cars_updated[\"color\"].map(color_map)\n",
    "# Update the engine fuel column using the fuel_map\n",
    "used_cars_updated[\"engine_fuel\"] = used_cars_updated[\"engine_fuel\"].map(fuel_map)\n",
    "# Update the transmission column using the transmission_map\n",
    "used_cars_updated[\"transmission\"] = used_cars_updated[\"transmission\"].map(transmission_map)\n",
    "\n",
    "# Print the info statement\n",
    "print(used_cars_updated.info())"
   ]
  },
  {
   "attachments": {},
   "cell_type": "markdown",
   "metadata": {},
   "source": [
    "Print the frequency table of the \"manufacturer_name\" column."
   ]
  },
  {
   "cell_type": "code",
   "execution_count": null,
   "metadata": {},
   "outputs": [],
   "source": [
    "# Print the manufacturer name frequency table\n",
    "print(used_cars[\"manufacturer_name\"].value_counts())"
   ]
  },
  {
   "attachments": {},
   "cell_type": "markdown",
   "metadata": {},
   "source": [
    "Create a column, \"is_volkswagen\", that is True when \"manufacturer_name\" contains \"Volkswagen\" and False otherwise."
   ]
  },
  {
   "cell_type": "code",
   "execution_count": null,
   "metadata": {},
   "outputs": [],
   "source": [
    "# Create a Boolean column based on if the manufacturer name that contain Volkswagen\n",
    "used_cars[\"is_volkswagen\"] = np.where(\n",
    "  used_cars[\"manufacturer_name\"].str.contains(\"Volkswagen\", regex=False), True, False)"
   ]
  },
  {
   "attachments": {},
   "cell_type": "markdown",
   "metadata": {},
   "source": [
    "Update the code so that a 1 is used instead of True and a 0 is used instead of False so Python can use this column in algorithms."
   ]
  },
  {
   "cell_type": "code",
   "execution_count": null,
   "metadata": {},
   "outputs": [],
   "source": [
    "# Create a Boolean column based on if the manufacturer name that contain Volkswagen: using 0s an 1s\n",
    "used_cars[\"is_volkswagen\"] = np.where(\n",
    "  used_cars[\"manufacturer_name\"].str.contains(\"Volkswagen\", regex=False), 1, 0)"
   ]
  },
  {
   "attachments": {},
   "cell_type": "markdown",
   "metadata": {},
   "source": [
    "Print out a frequency table for the newly created column."
   ]
  },
  {
   "cell_type": "code",
   "execution_count": null,
   "metadata": {},
   "outputs": [],
   "source": [
    "# Check the final frequency table\n",
    "print(used_cars[\"is_volkswagen\"].value_counts())"
   ]
  },
  {
   "attachments": {},
   "cell_type": "markdown",
   "metadata": {},
   "source": [
    "Create a new dataset, used_cars_simple, with one-hot encoding for these columns: \"manufacturer_name\" and \"transmission\" (in this order).\n",
    "\n",
    "Set the prefix of all new columns to \"dummy\", so that you can easily filter to newly created columns."
   ]
  },
  {
   "cell_type": "code",
   "execution_count": null,
   "metadata": {},
   "outputs": [],
   "source": [
    "# Create one-hot encoding for just two columns\n",
    "used_cars_simple = pd.get_dummies(\n",
    "  used_cars,\n",
    "  # Specify the columns from the instructions\n",
    "  columns=[\"manufacturer_name\", \"transmission\"],\n",
    "  # Set the prefix\n",
    "  prefix=\"dummy\"\n",
    ")\n",
    "\n",
    "# Print the shape of the new dataset\n",
    "print(used_cars_simple.shape)"
   ]
  }
 ],
 "metadata": {
  "language_info": {
   "name": "python"
  },
  "orig_nbformat": 4
 },
 "nbformat": 4,
 "nbformat_minor": 2
}
